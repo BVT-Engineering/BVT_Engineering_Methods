{
  "nbformat": 4,
  "nbformat_minor": 0,
  "metadata": {
    "colab": {
      "name": "NZS_1170_5.ipynb",
      "provenance": []
    },
    "kernelspec": {
      "name": "python3",
      "display_name": "Python 3"
    },
    "language_info": {
      "name": "python"
    }
  },
  "cells": [
    {
      "cell_type": "code",
      "metadata": {
        "id": "2FFScHTAvB8F"
      },
      "source": [
        "Z = .50"
      ],
      "execution_count": null,
      "outputs": []
    }
  ]
}