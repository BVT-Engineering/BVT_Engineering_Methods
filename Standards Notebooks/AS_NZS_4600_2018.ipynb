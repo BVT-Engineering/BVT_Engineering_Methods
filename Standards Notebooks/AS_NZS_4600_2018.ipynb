{
  "nbformat": 4,
  "nbformat_minor": 0,
  "metadata": {
    "colab": {
      "name": "AS_NZS_4600:2018.ipynb",
      "provenance": [],
      "collapsed_sections": [
        "da6QynGmkZQQ",
        "x1bXD6GDo0Qk",
        "PW3cmCOLo2zL",
        "bey1obbum84p",
        "FVk0h9Wh2aXX"
      ],
      "toc_visible": true
    },
    "kernelspec": {
      "name": "python3",
      "display_name": "Python 3"
    },
    "language_info": {
      "name": "python"
    }
  },
  "cells": [
    {
      "cell_type": "markdown",
      "source": [
        "#AS_NZS_4600:2018.py method\n",
        "\n",
        "This method references the following standard:\n",
        "AS/NZS 4600:2018, for Cold-formed steel structures.\n",
        "\n",
        "Method developed 24 May 2022\n",
        "(c) BVT Consulting Ltd\n",
        "\n",
        "Developed - SB\n",
        "\n",
        "Reviewed - MB\n",
        "\n",
        "**Version summary:**\n",
        "\n",
        "24.05.2022 - v 0.0 - DRAFT Sections 1.6, 3.1-3.5, 5.3 added\n",
        "\n",
        "07.07.2022 - v 1.0 - Initial release for use with BVT Selective/Pallet Racking Performance Function. Validated for typical 100x67x2.0 racking post against existing BVT spreadsheets."
      ],
      "metadata": {
        "id": "VEMl4WXlmS_P"
      }
    },
    {
      "cell_type": "markdown",
      "source": [
        "## Notes on scope and assumptions"
      ],
      "metadata": {
        "id": "x-lsJBArbw75"
      }
    },
    {
      "cell_type": "markdown",
      "source": [
        "In general, this standard function library currently covers then following sections of AS/NZS 4600:2018. Parts **not** listed below are not covered:\n",
        "\n",
        "- Table 1.6.3 - Capacity Reduction Factor\n",
        "- Section 3 - Members\n",
        "> except:\n",
        ">> - 3.3.4 - Shear\n",
        ">> - 3.3.5 - Combined bending and shear \n",
        ">> - 3.4.1(6),(6) - G550 steel, less than 0.9 mm BMT\n",
        ">> - 3.3.6 - Bearing \n",
        ">> - 3.3.7 - Combined bending and bearing\n",
        ">> - 3.3.8 - Stiffeners\n",
        ">> - 3.6 - Cylindrical members\n",
        "\n",
        "- Appendix D1.1 - Buckling stresses and moments for members in compression\n",
        "> except:\n",
        ">> - D1.1.1.4 - Non-symmetric sections\n",
        ">> - D1.2 - Distortional buckling stresses\n",
        ">> - D1.3 - Local buckling stresses\n",
        "\n",
        "- Appendix D2.1 - Buckling stresses and moments for members in bending\n",
        "> except:\n",
        ">> - D2.1.1.2 - Buckling coefficient allowing for moment distribution, $C_b$, conservatively taken as 1.0\n",
        ">> - D2.2 - Distortional buckling stresses\n",
        ">> - D2.3 - Local buckling stresses\n",
        "\n",
        "Calculation of section properties to Section 2, including reduced section properties, is not covered in this performance function and is part of the required input information. "
      ],
      "metadata": {
        "id": "cLPIZVZldoIB"
      }
    },
    {
      "cell_type": "markdown",
      "source": [
        "##Initialise  Dependents and Libraries"
      ],
      "metadata": {
        "id": "PDMzAYLamxkN"
      }
    },
    {
      "cell_type": "code",
      "execution_count": null,
      "metadata": {
        "id": "LvfWtV1amCAw"
      },
      "outputs": [],
      "source": [
        "import pandas as pd\n",
        "import numpy as np\n",
        "import math"
      ]
    },
    {
      "cell_type": "markdown",
      "source": [
        "## Input information\n",
        "NOTE: UNITS ARE N, Nmm, mm\n",
        "\n",
        "All information is input to functions using one or more of the section, member and connection properties dictionaries.\n",
        "\n",
        "Dictionaries are input here to use for testing, as well as to set dictionaries - this is required for the functions to run as they are initially imported by other Engineering Methods.\n",
        "\n",
        "When the functions are called, the relevant dictionaries are provided as part of the input so the information here will not be used.\n",
        "\n",
        "Information on the input dictionaries can be found here: https://docs.google.com/document/d/1b3DVz-Y_lmYiqm0KnF_Pif5EkcBTiYdxhUq5HGWubO0/edit?usp=sharing "
      ],
      "metadata": {
        "id": "PSh4lrTHCtxe"
      }
    },
    {
      "cell_type": "code",
      "source": [
        "# section, member and connection property dicts are set here. When functions are called these are overridden with the information for the item to be checked\n",
        "# 100x67x2.0 post section properties. In this case X is used for the minor axis\n",
        "section_properties = {\n",
        "    'Zx': 6595.5001,\n",
        "    'Zy': 1.40137e4,\n",
        "    'Zex': 6247.4937,\n",
        "    'Zey': 1.32149e4\t,\n",
        "    'Ix': 2.91297e5,\n",
        "    'Iy': 7.14700e5,\n",
        "    'J' : 712.071,\n",
        "    'Iw': 1.14391e9,\n",
        "    'symmetry axes': 'y',\n",
        "    'Af': 541.6281,\n",
        "    'Ae': 494,\n",
        "    't' : 2,\n",
        "    'x0': 0,\n",
        "    'y0': -58.3515,\n",
        "    'beta': 123.3769,\t\t\n",
        "    'E' : 200e3,\n",
        "    'G' : 80e3,\n",
        "    'fy': 345,\n",
        "    'fu': 470,\n",
        "    'hole sections': {\n",
        "        'holes present?': True,\n",
        "        'Ix,net': 2.61527e5\t,\n",
        "        'Iy,net': 6.73961e5\t,\n",
        "        'Zx,net': 6247.4937,\n",
        "        'Zy,net': 1.32149e4,\n",
        "        'J,net' : 645,\n",
        "        'Iw,net': 5.2e8,\n",
        "        'A,net' : 494,\n",
        "        'x0,net': 0,\n",
        "        'y0,net': -62.7428,\n",
        "        'hole length': 25,\n",
        "        'hole spacing': 76,\n",
        "        },\n",
        "    'is subject to distortional buckling?': True,\n",
        "    'fod' : {'fod_x':574,\n",
        "               'fod_y':675,\n",
        "               'fod_c':319\n",
        "               },\n",
        "    'is cylinder?': False,\n",
        "    'bolt hole diameter': 4*14\n",
        "}\n",
        "\n",
        "print(section_properties)\n",
        "\n",
        "# 100x67x2.0 post member - typical values entered\n",
        "member_properties = {\n",
        "    'Mx' : 0.151,\n",
        "    'My' : 0.344,\n",
        "    'N'  : 30.908,\n",
        "    'Vx' : 5.301,\n",
        "    'Vy' : 2.13,\n",
        "    'lex' : 68.4,\n",
        "    'ley' : 76,\n",
        "    'lez' : 76,\n",
        "    'cantilevered?': False\n",
        "}\n",
        "\n",
        "print(member_properties)\n",
        "\n",
        "# typ M10 bolt to 1.8 mm brace and 2.0 mm posts entered\n",
        "connection_properties = {\n",
        "    'connection type' : 'bolted',\n",
        "    'connection size' : 10,\n",
        "    'washer diameter' : 16,\n",
        "    'washer thickness': 2,\n",
        "    't1' : 1.8,\n",
        "    'fy1': 350,\n",
        "    'fu1': 470,\n",
        "    'e1': 19,\n",
        "    'w1': 36,\n",
        "    'An1': (36 + 2*24 - 12)*1.8,\n",
        "    'alpha1': 0.75,\n",
        "    't2' : 2,\n",
        "    'fy2': 350,\n",
        "    'fu2': 470,\n",
        "    'e2' : 20,\n",
        "    'w2' : 67,\n",
        "    'An2': section_properties['hole sections']['A,net']-12*2,\n",
        "    'alpha2': 0.75,\n",
        "    'spacing' : None,\n",
        "    'V' : 11200,\n",
        "    'Nt' : 0\n",
        "}\n",
        "\n",
        "print(connection_properties)"
      ],
      "metadata": {
        "colab": {
          "base_uri": "https://localhost:8080/"
        },
        "id": "JBvZHJfaC5gg",
        "outputId": "780e7955-4111-41c7-a50b-0968dc6c97cc"
      },
      "execution_count": null,
      "outputs": [
        {
          "output_type": "stream",
          "name": "stdout",
          "text": [
            "{'Zx': 6595.5001, 'Zy': 14013.7, 'Zex': 6247.4937, 'Zey': 13214.9, 'Ix': 291297.0, 'Iy': 714700.0, 'J': 712.071, 'Iw': 1143910000.0, 'symmetry axes': 'y', 'Af': 541.6281, 't': 2, 'Ae': 494, 'x0': 0, 'y0': -58.3515, 'beta': 123.3769, 'E': 200000.0, 'G': 80000.0, 'fy': 345, 'fu': 470, 'hole sections': {'holes present?': True, 'Ix,net': 261527.0, 'Iy,net': 673961.0, 'Zx,net': 6247.4937, 'Zy,net': 13214.9, 'J,net': 645, 'Iw,net': 520000000.0, 'A,net': 494, 'x0,net': 0, 'y0,net': -62.7428, 'hole length': 25, 'hole spacing': 76}, 'is subject to distortional buckling?': True, 'fod': {'fod_x': 574, 'fod_y': 675, 'fod_c': 319}, 'is cylinder?': False, 'bolt hole diameter': 56}\n",
            "{'Mx': 0.151, 'My': 0.344, 'N': 30.908, 'Vx': 5.301, 'Vy': 2.13, 'lex': 68.4, 'ley': 76, 'lez': 76, 'cantilevered?': False}\n",
            "{'connection type': 'bolted', 'connection size': 10, 'washer diameter': 16, 'washer thickness': 2, 't1': 1.8, 'fy1': 350, 'fu1': 470, 'e1': 19, 'w1': 36, 'An1': 129.6, 'alpha1': 0.75, 't2': 2, 'fy2': 350, 'fu2': 470, 'e2': 20, 'w2': 67, 'An2': 470, 'alpha2': 0.75, 'spacing': None, 'V': 11200, 'Nt': 0}\n"
          ]
        }
      ]
    },
    {
      "cell_type": "markdown",
      "source": [
        "# Axis setter\n",
        "\n",
        "Information is input based on section x and y axis. This function converts values to major or minor axis, allowing sections to be input in any rotation.\n",
        "\n",
        "Major axis is taken as the one with the highest stiffness (highest $I$ value)"
      ],
      "metadata": {
        "id": "da6QynGmkZQQ"
      }
    },
    {
      "cell_type": "code",
      "source": [
        "def axis_setter(section_properties):\n",
        "  if section_properties['Ix'] >= section_properties['Iy']:\n",
        "    section_properties['major_axis'] = 'x'\n",
        "    section_properties['Imaj'] = section_properties['Ix']\n",
        "    section_properties['Zf_maj'] = section_properties['Zx']\n",
        "    section_properties['Ze_maj'] = section_properties['Zex']\n",
        "    section_properties['shear_centre_maj'] = section_properties['x0'] \n",
        "    section_properties['Imin'] = section_properties['Iy']\n",
        "    section_properties['Zf_min'] = section_properties['Zy']\n",
        "    section_properties['Ze_min'] = section_properties['Zey']\n",
        "    section_properties['shear_centre_min'] = section_properties['y0'] \n",
        "    section_properties['hole sections']['Imaj,net'] = section_properties['hole sections']['Ix,net']\n",
        "    section_properties['hole sections']['Imin,net'] = section_properties['hole sections']['Iy,net']\n",
        "    section_properties['hole sections']['Zmaj,net'] = section_properties['hole sections']['Zx,net']\n",
        "    section_properties['hole sections']['Zmin,net'] = section_properties['hole sections']['Zy,net']\n",
        "    section_properties['hole sections']['shear_centre_maj,net'] = section_properties['hole sections']['x0,net']\n",
        "    section_properties['hole sections']['shear_centre_min,net'] = section_properties['hole sections']['y0,net']\n",
        "    section_properties['fomaj'] = section_properties['fod']['fod_x']\n",
        "    section_properties['fomin'] = section_properties['fod']['fod_y']\n",
        "    section_properties['foc'] = section_properties['fod']['fod_c']\n",
        "\n",
        "    if section_properties['symmetry axes'] =='x':\n",
        "      section_properties['symmetry axes maj min'] = 'maj'\n",
        "    elif section_properties['symmetry axes'] =='y':\n",
        "      section_properties['symmetry axes maj min'] = 'min'\n",
        "    elif section_properties['symmetry axes'] =='double':\n",
        "      section_properties['symmetry axes maj min'] = 'double'\n",
        "\n",
        "  else:\n",
        "    section_properties['major_axis'] = 'y'\n",
        "    section_properties['Imaj'] = section_properties['Iy']\n",
        "    section_properties['Zf_maj'] = section_properties['Zy']\n",
        "    section_properties['Ze_maj'] = section_properties['Zey']\n",
        "    section_properties['shear_centre_maj'] = section_properties['y0'] \n",
        "    section_properties['Imin'] = section_properties['Ix']\n",
        "    section_properties['Zf_min'] = section_properties['Zx']\n",
        "    section_properties['Ze_min'] = section_properties['Zex']\n",
        "    section_properties['shear_centre_min'] = section_properties['x0'] \n",
        "    section_properties['hole sections']['Imaj,net'] = section_properties['hole sections']['Iy,net']\n",
        "    section_properties['hole sections']['Imin,net'] = section_properties['hole sections']['Ix,net']\n",
        "    section_properties['hole sections']['Zmaj,net'] = section_properties['hole sections']['Zy,net']\n",
        "    section_properties['hole sections']['Zmin,net'] = section_properties['hole sections']['Zx,net']\n",
        "    section_properties['hole sections']['shear_centre_maj,net'] = section_properties['hole sections']['y0,net']\n",
        "    section_properties['hole sections']['shear_centre_min,net'] = section_properties['hole sections']['x0,net']\n",
        "    section_properties['fomaj'] = section_properties['fod']['fod_y']\n",
        "    section_properties['fomin'] = section_properties['fod']['fod_x']\n",
        "    section_properties['foc'] = section_properties['fod']['fod_c']\n",
        "\n",
        "    if section_properties['symmetry axes'] =='y':\n",
        "      section_properties['symmetry axes maj min'] = 'maj'\n",
        "    elif section_properties['symmetry axes'] =='x':\n",
        "      section_properties['symmetry axes maj min'] = 'min'\n",
        "    elif section_properties['symmetry axes'] =='double':\n",
        "      section_properties['symmetry axes maj min'] = 'double'\n",
        "\n",
        "  return section_properties"
      ],
      "metadata": {
        "id": "SWVmZvxxkxOj"
      },
      "execution_count": null,
      "outputs": []
    },
    {
      "cell_type": "markdown",
      "source": [
        "# Section Reviewer\n",
        "Reviews section_properties dictionary and returns an error if the section is outside of the scope of this performance function.\n"
      ],
      "metadata": {
        "id": "qGZhXFSCVm2Z"
      }
    },
    {
      "cell_type": "code",
      "source": [
        "def section_reviewer(section_properties):\n",
        "  errors = []\n",
        "\n",
        "  # check if non-symmetric section. Major axis bending not covered as AS/NZS 4600:2018 does not contain a method for assessing lateral buckling of these sections.\n",
        "  if section_properties['symmetry axes'] == 'none':\n",
        "    errors.append('Buckling checks for members with no symmetry axes not covered in this function library. Other analysis required')\n",
        "  elif section_properties['symmetry axes'] == 'Z point symmetric':\n",
        "    errors.append('Calculation of elastic lateral-torsional buckling moment for point symmetric Z sections not yet covered in performance function. Manual calculation using Appendix D2.1.1.3 required')\n",
        "  elif section_properties['symmetry axes'] in {'x','y','double'}:\n",
        "     'filler - no action'\n",
        "  else:\n",
        "    errors.append('\"symmetry axes\" input not recognised. Input should be string of either \"x\", \"y\", \"double\", \"Z point symmetric\" or \"none\"')\n",
        "\n",
        "  #check for G550 steel, under 0.9 mm BMT\n",
        "  if section_properties['fy'] >= 550 and section_properties['t'] < 0.9:\n",
        "    errors.append('Error: additional requirements for G550 steel, less than 0.9 mm BMT given in Section 3.4.1 are not covered in this function library')\n",
        "\n",
        "  #check for G550 steel, under 0.9 mm BMT\n",
        "  if section_properties['is cylinder?'] == True:\n",
        "    errors.append('Error: Member capacity calculations for cylinders as given in Section 3.6 are not covered in this function library')\n",
        "\n",
        "  return errors\n",
        "\n",
        "errors = section_reviewer(section_properties)\n",
        "errors"
      ],
      "metadata": {
        "colab": {
          "base_uri": "https://localhost:8080/"
        },
        "id": "cPKDBG6iV7cQ",
        "outputId": "2da6d112-61f4-4be7-fb92-ab2908d88fe9"
      },
      "execution_count": null,
      "outputs": [
        {
          "output_type": "execute_result",
          "data": {
            "text/plain": [
              "[]"
            ]
          },
          "metadata": {},
          "execution_count": 4
        }
      ]
    },
    {
      "cell_type": "markdown",
      "source": [
        "#1. Scope and General"
      ],
      "metadata": {
        "id": "x1bXD6GDo0Qk"
      }
    },
    {
      "cell_type": "markdown",
      "source": [
        "## 1.6.3 Capacity reduction factor\n",
        "\n",
        "Only the values used in the sections covered by this performance funtion are included. Further values can be added as required as the performance function is developed to cover more of AS/NZS 4600:2018.\n",
        "\n",
        "Note that in some cases where a range of capacity reduction factors are given, the lower value is used. These are:\n",
        "\n",
        "- Combined axial and beanding: Bending\n",
        "- Bolted connections: Tension"
      ],
      "metadata": {
        "id": "PW3cmCOLo2zL"
      }
    },
    {
      "cell_type": "code",
      "source": [
        "table1_6_3 = pd.DataFrame(\n",
        "   [['Members subject to axial tension','Members subject to axial tension', \"3.2\", 0.90],\n",
        "    ['Members subject to bending',\"Section moment capacity - for sections with stiffened or partially stiffened compression flanges\", \"3.3.2\", 0.95],\n",
        "    ['Members subject to bending',\"Section moment capacity - for sections with unstiffened compression flanges\", \"3.3.2\", 0.90],\n",
        "    ['Members subject to bending',\"Member moment capacity - lateral and distortional buckling and beams with one flange through fastened to sheeting\", \"3.3.3\", 0.90],\n",
        "    ['Members subject to bending',\"Web design - shear\", \"3.3.4\", 0.90],\n",
        "    ['Concentrically loaded compression members',\"All\", \"3.4\", 0.85],\n",
        "    ['Combined axial load and bending',\"Compression\", \"3.5.1\", 0.85],\n",
        "    ['Combined axial load and bending',\"Bending\", \"3.5.1\", 0.90],\n",
        "    ['Bolted connections',\"Tearout\", \"5.3.2\", 0.6],\n",
        "    ['Bolted connections',\"Net section tension\", \"5.3.3\", 0.8],\n",
        "    ['Bolted connections',\"Bearing\", \"5.3.4\", 0.6],\n",
        "    ['Bolted connections',\"Bolt - in shear\", \"5.3.5.1\", 0.8],\n",
        "    ['Bolted connections',\"Bolt - in tension\", \"5.3.5.2\", 0.8],\n",
        "   ], \n",
        "columns = [\"category\", \"Design capacity of:\",\"Reference\",\"Capacity Reduction Factor\"])\n",
        "\n",
        "table1_6_3"
      ],
      "metadata": {
        "colab": {
          "base_uri": "https://localhost:8080/"
        },
        "id": "yQ_riMmPpEZx",
        "outputId": "325ccc23-5804-49f3-ecf4-8a6973b55aa9"
      },
      "execution_count": null,
      "outputs": [
        {
          "output_type": "execute_result",
          "data": {
            "text/plain": [
              "                                     category  \\\n",
              "0            Members subject to axial tension   \n",
              "1                  Members subject to bending   \n",
              "2                  Members subject to bending   \n",
              "3                  Members subject to bending   \n",
              "4                  Members subject to bending   \n",
              "5   Concentrically loaded compression members   \n",
              "6             Combined axial load and bending   \n",
              "7             Combined axial load and bending   \n",
              "8                          Bolted connections   \n",
              "9                          Bolted connections   \n",
              "10                         Bolted connections   \n",
              "11                         Bolted connections   \n",
              "12                         Bolted connections   \n",
              "\n",
              "                                  Design capacity of: Reference  \\\n",
              "0                    Members subject to axial tension       3.2   \n",
              "1   Section moment capacity - for sections with st...     3.3.2   \n",
              "2   Section moment capacity - for sections with un...     3.3.2   \n",
              "3   Member moment capacity - lateral and distortio...     3.3.3   \n",
              "4                                  Web design - shear     3.3.4   \n",
              "5                                                 All       3.4   \n",
              "6                                         Compression     3.5.1   \n",
              "7                                             Bending     3.5.1   \n",
              "8                                             Tearout     5.3.2   \n",
              "9                                 Net section tension     5.3.3   \n",
              "10                                            Bearing     5.3.4   \n",
              "11                                    Bolt - in shear   5.3.5.1   \n",
              "12                                  Bolt - in tension   5.3.5.2   \n",
              "\n",
              "    Capacity Reduction Factor  \n",
              "0                        0.90  \n",
              "1                        0.95  \n",
              "2                        0.90  \n",
              "3                        0.90  \n",
              "4                        0.90  \n",
              "5                        0.85  \n",
              "6                        0.85  \n",
              "7                        0.90  \n",
              "8                        0.60  \n",
              "9                        0.80  \n",
              "10                       0.60  \n",
              "11                       0.80  \n",
              "12                       0.80  "
            ],
            "text/html": [
              "\n",
              "  <div id=\"df-361ee721-18f7-4a8a-a2c1-7c2d9c3f65f1\">\n",
              "    <div class=\"colab-df-container\">\n",
              "      <div>\n",
              "<style scoped>\n",
              "    .dataframe tbody tr th:only-of-type {\n",
              "        vertical-align: middle;\n",
              "    }\n",
              "\n",
              "    .dataframe tbody tr th {\n",
              "        vertical-align: top;\n",
              "    }\n",
              "\n",
              "    .dataframe thead th {\n",
              "        text-align: right;\n",
              "    }\n",
              "</style>\n",
              "<table border=\"1\" class=\"dataframe\">\n",
              "  <thead>\n",
              "    <tr style=\"text-align: right;\">\n",
              "      <th></th>\n",
              "      <th>category</th>\n",
              "      <th>Design capacity of:</th>\n",
              "      <th>Reference</th>\n",
              "      <th>Capacity Reduction Factor</th>\n",
              "    </tr>\n",
              "  </thead>\n",
              "  <tbody>\n",
              "    <tr>\n",
              "      <th>0</th>\n",
              "      <td>Members subject to axial tension</td>\n",
              "      <td>Members subject to axial tension</td>\n",
              "      <td>3.2</td>\n",
              "      <td>0.90</td>\n",
              "    </tr>\n",
              "    <tr>\n",
              "      <th>1</th>\n",
              "      <td>Members subject to bending</td>\n",
              "      <td>Section moment capacity - for sections with st...</td>\n",
              "      <td>3.3.2</td>\n",
              "      <td>0.95</td>\n",
              "    </tr>\n",
              "    <tr>\n",
              "      <th>2</th>\n",
              "      <td>Members subject to bending</td>\n",
              "      <td>Section moment capacity - for sections with un...</td>\n",
              "      <td>3.3.2</td>\n",
              "      <td>0.90</td>\n",
              "    </tr>\n",
              "    <tr>\n",
              "      <th>3</th>\n",
              "      <td>Members subject to bending</td>\n",
              "      <td>Member moment capacity - lateral and distortio...</td>\n",
              "      <td>3.3.3</td>\n",
              "      <td>0.90</td>\n",
              "    </tr>\n",
              "    <tr>\n",
              "      <th>4</th>\n",
              "      <td>Members subject to bending</td>\n",
              "      <td>Web design - shear</td>\n",
              "      <td>3.3.4</td>\n",
              "      <td>0.90</td>\n",
              "    </tr>\n",
              "    <tr>\n",
              "      <th>5</th>\n",
              "      <td>Concentrically loaded compression members</td>\n",
              "      <td>All</td>\n",
              "      <td>3.4</td>\n",
              "      <td>0.85</td>\n",
              "    </tr>\n",
              "    <tr>\n",
              "      <th>6</th>\n",
              "      <td>Combined axial load and bending</td>\n",
              "      <td>Compression</td>\n",
              "      <td>3.5.1</td>\n",
              "      <td>0.85</td>\n",
              "    </tr>\n",
              "    <tr>\n",
              "      <th>7</th>\n",
              "      <td>Combined axial load and bending</td>\n",
              "      <td>Bending</td>\n",
              "      <td>3.5.1</td>\n",
              "      <td>0.90</td>\n",
              "    </tr>\n",
              "    <tr>\n",
              "      <th>8</th>\n",
              "      <td>Bolted connections</td>\n",
              "      <td>Tearout</td>\n",
              "      <td>5.3.2</td>\n",
              "      <td>0.60</td>\n",
              "    </tr>\n",
              "    <tr>\n",
              "      <th>9</th>\n",
              "      <td>Bolted connections</td>\n",
              "      <td>Net section tension</td>\n",
              "      <td>5.3.3</td>\n",
              "      <td>0.80</td>\n",
              "    </tr>\n",
              "    <tr>\n",
              "      <th>10</th>\n",
              "      <td>Bolted connections</td>\n",
              "      <td>Bearing</td>\n",
              "      <td>5.3.4</td>\n",
              "      <td>0.60</td>\n",
              "    </tr>\n",
              "    <tr>\n",
              "      <th>11</th>\n",
              "      <td>Bolted connections</td>\n",
              "      <td>Bolt - in shear</td>\n",
              "      <td>5.3.5.1</td>\n",
              "      <td>0.80</td>\n",
              "    </tr>\n",
              "    <tr>\n",
              "      <th>12</th>\n",
              "      <td>Bolted connections</td>\n",
              "      <td>Bolt - in tension</td>\n",
              "      <td>5.3.5.2</td>\n",
              "      <td>0.80</td>\n",
              "    </tr>\n",
              "  </tbody>\n",
              "</table>\n",
              "</div>\n",
              "      <button class=\"colab-df-convert\" onclick=\"convertToInteractive('df-361ee721-18f7-4a8a-a2c1-7c2d9c3f65f1')\"\n",
              "              title=\"Convert this dataframe to an interactive table.\"\n",
              "              style=\"display:none;\">\n",
              "        \n",
              "  <svg xmlns=\"http://www.w3.org/2000/svg\" height=\"24px\"viewBox=\"0 0 24 24\"\n",
              "       width=\"24px\">\n",
              "    <path d=\"M0 0h24v24H0V0z\" fill=\"none\"/>\n",
              "    <path d=\"M18.56 5.44l.94 2.06.94-2.06 2.06-.94-2.06-.94-.94-2.06-.94 2.06-2.06.94zm-11 1L8.5 8.5l.94-2.06 2.06-.94-2.06-.94L8.5 2.5l-.94 2.06-2.06.94zm10 10l.94 2.06.94-2.06 2.06-.94-2.06-.94-.94-2.06-.94 2.06-2.06.94z\"/><path d=\"M17.41 7.96l-1.37-1.37c-.4-.4-.92-.59-1.43-.59-.52 0-1.04.2-1.43.59L10.3 9.45l-7.72 7.72c-.78.78-.78 2.05 0 2.83L4 21.41c.39.39.9.59 1.41.59.51 0 1.02-.2 1.41-.59l7.78-7.78 2.81-2.81c.8-.78.8-2.07 0-2.86zM5.41 20L4 18.59l7.72-7.72 1.47 1.35L5.41 20z\"/>\n",
              "  </svg>\n",
              "      </button>\n",
              "      \n",
              "  <style>\n",
              "    .colab-df-container {\n",
              "      display:flex;\n",
              "      flex-wrap:wrap;\n",
              "      gap: 12px;\n",
              "    }\n",
              "\n",
              "    .colab-df-convert {\n",
              "      background-color: #E8F0FE;\n",
              "      border: none;\n",
              "      border-radius: 50%;\n",
              "      cursor: pointer;\n",
              "      display: none;\n",
              "      fill: #1967D2;\n",
              "      height: 32px;\n",
              "      padding: 0 0 0 0;\n",
              "      width: 32px;\n",
              "    }\n",
              "\n",
              "    .colab-df-convert:hover {\n",
              "      background-color: #E2EBFA;\n",
              "      box-shadow: 0px 1px 2px rgba(60, 64, 67, 0.3), 0px 1px 3px 1px rgba(60, 64, 67, 0.15);\n",
              "      fill: #174EA6;\n",
              "    }\n",
              "\n",
              "    [theme=dark] .colab-df-convert {\n",
              "      background-color: #3B4455;\n",
              "      fill: #D2E3FC;\n",
              "    }\n",
              "\n",
              "    [theme=dark] .colab-df-convert:hover {\n",
              "      background-color: #434B5C;\n",
              "      box-shadow: 0px 1px 3px 1px rgba(0, 0, 0, 0.15);\n",
              "      filter: drop-shadow(0px 1px 2px rgba(0, 0, 0, 0.3));\n",
              "      fill: #FFFFFF;\n",
              "    }\n",
              "  </style>\n",
              "\n",
              "      <script>\n",
              "        const buttonEl =\n",
              "          document.querySelector('#df-361ee721-18f7-4a8a-a2c1-7c2d9c3f65f1 button.colab-df-convert');\n",
              "        buttonEl.style.display =\n",
              "          google.colab.kernel.accessAllowed ? 'block' : 'none';\n",
              "\n",
              "        async function convertToInteractive(key) {\n",
              "          const element = document.querySelector('#df-361ee721-18f7-4a8a-a2c1-7c2d9c3f65f1');\n",
              "          const dataTable =\n",
              "            await google.colab.kernel.invokeFunction('convertToInteractive',\n",
              "                                                     [key], {});\n",
              "          if (!dataTable) return;\n",
              "\n",
              "          const docLinkHtml = 'Like what you see? Visit the ' +\n",
              "            '<a target=\"_blank\" href=https://colab.research.google.com/notebooks/data_table.ipynb>data table notebook</a>'\n",
              "            + ' to learn more about interactive tables.';\n",
              "          element.innerHTML = '';\n",
              "          dataTable['output_type'] = 'display_data';\n",
              "          await google.colab.output.renderOutput(dataTable, element);\n",
              "          const docLink = document.createElement('div');\n",
              "          docLink.innerHTML = docLinkHtml;\n",
              "          element.appendChild(docLink);\n",
              "        }\n",
              "      </script>\n",
              "    </div>\n",
              "  </div>\n",
              "  "
            ]
          },
          "metadata": {},
          "execution_count": 5
        }
      ]
    },
    {
      "cell_type": "markdown",
      "source": [
        "# 3. Members"
      ],
      "metadata": {
        "id": "64lp1OX5m5cL"
      }
    },
    {
      "cell_type": "markdown",
      "source": [
        "##3.2 Members subject to axial tension"
      ],
      "metadata": {
        "id": "bey1obbum84p"
      }
    },
    {
      "cell_type": "markdown",
      "source": [
        "### 3.2.1 Design for axial tension\n",
        "\n",
        ">> $ N^* \\le \\phi_tN_t\n",
        "$\n",
        "\n",
        "The tension unity for the member is calculated:\n",
        "\n",
        ">> $ TensionUnity = \\frac{N^*}{\\phi_tN_t}\n",
        "$"
      ],
      "metadata": {
        "id": "_VWFwlxju6iy"
      }
    },
    {
      "cell_type": "code",
      "source": [
        "def Clause_3_2_1_tension_unity(section_properties, member_properties, **k_t):\n",
        "  # get phi_t from Table 1.6.3 dataframe. .loc gets the series corresponding to 'Reference' = 3.2, .iloc[0] takes the first value of this series, which is the phi factor\n",
        "  phi_t = table1_6_3.loc[table1_6_3['Reference'] == '3.2','Capacity Reduction Factor'].iloc[0]\n",
        "\n",
        "  # calculate N_t using the function for nominal section tension capacity\n",
        "  N_t = nominal_section_tension_capacity(section_properties)\n",
        "\n",
        "  # get tension action. 0 tension action will be returned if axial action is negative (i.e. compression)\n",
        "  if member_properties['N'] >= 0:\n",
        "    N_action = member_properties['N']\n",
        "  else:\n",
        "    N_action = 0\n",
        "\n",
        "  #calculate tension unity\n",
        "  tension_unity = N_action/(phi_t*N_t)\n",
        "  \n",
        "  return tension_unity"
      ],
      "metadata": {
        "id": "uVZmta5zvZYV"
      },
      "execution_count": null,
      "outputs": []
    },
    {
      "cell_type": "markdown",
      "source": [
        "### 3.2.2 Nominal section capacity\n",
        "\n",
        "Takes the lesser of equations 3.2.2(1) and 3.2.2(2)"
      ],
      "metadata": {
        "id": "FVk0h9Wh2aXX"
      }
    },
    {
      "cell_type": "code",
      "source": [
        "def nominal_section_tension_capacity(section_properties,kt=0.75):\n",
        "  kt = tension_connection_factor(kt)\n",
        "\n",
        "  # get section, material properties\n",
        "  Ag = section_properties['Af']\n",
        "  fy = section_properties['fy']\n",
        "  fu = section_properties['fu']\n",
        "  \n",
        "  # get net area by taking gross area (non-holed sections) or holed net area (holed sections) and subtracting the fastener hole diameter if applicable\n",
        "  if section_properties['hole sections']['holes present?']== True:\n",
        "    An1 = section_properties['hole sections']['A,net']\n",
        "  else:\n",
        "    An1 = Ag\n",
        "\n",
        "  A_bolt_holes = section_properties['bolt hole diameter'] * section_properties['t'] \n",
        "  An = An1 - A_bolt_holes\n",
        "\n",
        "  N_t = min(\n",
        "      Ag*fy,\n",
        "      0.85*kt*An*fu\n",
        "  )\n",
        "  return N_t"
      ],
      "metadata": {
        "id": "-E0fthhdxTdw"
      },
      "execution_count": null,
      "outputs": []
    },
    {
      "cell_type": "markdown",
      "source": [
        "### 3.2.3 Distribution of forces\n",
        "\n",
        "The k_t factor is taken as 0.75 by default as this is the minimum value given by Table 3.2 (see below). Higher values may be input where applicable."
      ],
      "metadata": {
        "id": "q3YlwEVt3pXN"
      }
    },
    {
      "cell_type": "code",
      "source": [
        "def tension_connection_factor(kt = 0.75):\n",
        "  kt = kt\n",
        "  return kt"
      ],
      "metadata": {
        "id": "bi6U7Ibl4Tnp"
      },
      "execution_count": null,
      "outputs": []
    },
    {
      "cell_type": "markdown",
      "source": [
        "## 3.3 Members subject to bending"
      ],
      "metadata": {
        "id": "ldUHm3xj8Pir"
      }
    },
    {
      "cell_type": "markdown",
      "source": [
        "### 3.3.1 Bending moment\n",
        "\n",
        "Design bending moment shall be less than the factored limits for both section moment and member moment:\n",
        "\n",
        ">> $ M^*\\le \\phi_bM_s\n",
        "$\n",
        "\n",
        ">> $M^*\\le \\phi_bM_b\n",
        "$\n",
        "\n"
      ],
      "metadata": {
        "id": "I9-K56m29OoW"
      }
    },
    {
      "cell_type": "code",
      "source": [
        "def factored_section_bending_capacity(section_properties, member_properties, axis):  \n",
        "  # for section bending there are two options in Table 1.6.3 for phi. The minimum is taken as members being checked (steel stud, racking etc) often do not have stiffened compression flanges.\n",
        "  phi_b_s = table1_6_3.loc[table1_6_3['Reference'] == '3.3.2','Capacity Reduction Factor']\n",
        "  phi_b_s = min(phi_b_s.iloc[0],phi_b_s.iloc[1])\n",
        "  \n",
        "  # calculate M_s using the function for nominal section bending capacity\n",
        "  Msx,Msy = nominal_section_moment_capacity(section_properties)\n",
        "  if axis == 'x':\n",
        "    Ms = Msx\n",
        "  if axis == 'y':\n",
        "    Ms = Msy\n",
        "\n",
        "  return phi_b_s*Ms"
      ],
      "metadata": {
        "id": "XIqNL6ghT3GS"
      },
      "execution_count": null,
      "outputs": []
    },
    {
      "cell_type": "code",
      "source": [
        "def factored_member_bending_capacity(section_properties, member_properties, axis):    \n",
        "  # get phi_b for section and member bending from Table 1.6.3 dataframe. .loc gets the series corresponding to 'Reference' = 3.3.3, .iloc[0] takes the first value of this series, which is the phi factor\n",
        "  phi_b_m = table1_6_3.loc[table1_6_3['Reference'] == '3.3.3','Capacity Reduction Factor'].iloc[0]\n",
        "  \n",
        "  # calculate M_s using the function for nominal section bending capacity\n",
        "  Msx,Msy = nominal_section_moment_capacity(section_properties)\n",
        "  if axis == 'x':\n",
        "    Ms = Msx\n",
        "  if axis == 'y':\n",
        "    Ms = Msy\n",
        " \n",
        "  # get M_b using the function for nominal section bending capacity. \n",
        "  Mb = nominal_member_bending_capacity(section_properties, member_properties, axis, Ms)\n",
        "\n",
        "  return phi_b_m*Mb"
      ],
      "metadata": {
        "id": "wCPlzCZ_T_uU"
      },
      "execution_count": null,
      "outputs": []
    },
    {
      "cell_type": "markdown",
      "source": [
        "The bending unity is calculated:\n",
        "\n",
        ">> $ BendingUnity = \\frac{M^*}{min(\\phi_bM_s,\\phi_bM_b)}\n",
        "$\n",
        "\n",
        "Note that the $\\phi$ factor for section moment capacity is currently taken as the minimum out of the options given in Table 1.6.3. If the compression flange is stiffened a higher factor may be used. "
      ],
      "metadata": {
        "id": "6LTRkA74T1Hl"
      }
    },
    {
      "cell_type": "code",
      "source": [
        "def Clause_3_3_bending_unity(section_properties, member_properties, axis):\n",
        "  \n",
        "  # get bending action for correct axis. Moments converted to absolute values\n",
        "  if axis == 'x':\n",
        "    M_action = abs(member_properties['Mx'])\n",
        "  if axis == 'y':\n",
        "    M_action = abs(member_properties['My'])\n",
        "\n",
        "  # get factored section and member capacities\n",
        "  phi_Ms = factored_section_bending_capacity(section_properties, member_properties, axis)\n",
        "  phi_Mb = factored_member_bending_capacity(section_properties, member_properties, axis)\n",
        "\n",
        "  # calculate bending unity. \n",
        "  bending_unity = M_action/min(phi_Mb,phi_Ms)\n",
        "  \n",
        "  return bending_unity"
      ],
      "metadata": {
        "id": "_dplH4hL-m-B"
      },
      "execution_count": null,
      "outputs": []
    },
    {
      "cell_type": "markdown",
      "source": [
        "#### 3.3.2 Nominal section moment capacity\n",
        "\n",
        "The nominal section capacity based on initiation of yeilding is taken per 3.3.2.2:\n",
        "\n",
        ">> $M_s = Z_ef_y\n",
        "$\n",
        "\n",
        "Slighly higher capacity is possible for qualifying sections under 3.3.2.3 by utilising inelastic reserve capacity. However in most cases members under consideration are subject to buckling which disqualify them from this method.\n",
        "\n"
      ],
      "metadata": {
        "id": "-Cx7U_Fi8Sz1"
      }
    },
    {
      "cell_type": "code",
      "source": [
        "def nominal_section_moment_capacity(section_properties):\n",
        "  Zex = section_properties[\"Zex\"]\n",
        "  Zey = section_properties[\"Zey\"]\n",
        "  fy = section_properties[\"fy\"]\n",
        "  M_sx = Zex*fy\n",
        "  M_sy = Zey*fy\n",
        "  return M_sx, M_sy"
      ],
      "metadata": {
        "id": "LWDQi8VdC2Ht"
      },
      "execution_count": null,
      "outputs": []
    },
    {
      "cell_type": "markdown",
      "source": [
        "### 3.3.3 Nominal member moment capacity\n",
        "\n",
        "Nominal member moment capacity is taken as the minimum of nominal section moment capacity and values calculated using sections 3.3.3.2 and 3.3.3.3.\n",
        "\n",
        "Note that section 3.3.3.4 is not considered - this can give extra strength where one flange is fixed to a sheet. This applies to purlins fixed to roofing sheet, as well as partitions lined one side."
      ],
      "metadata": {
        "id": "NUX9bFpGDG9N"
      }
    },
    {
      "cell_type": "code",
      "source": [
        "def nominal_member_bending_capacity(section_properties, member_properties, axis, Ms):\n",
        "  # set major/ minor axes\n",
        "  section_properties = axis_setter(section_properties)\n",
        "  \n",
        "  # find limiting capacity out of lateral and distortional buckling. If section is set as not subject to distortional buckling, this value is set as equal to the lateral buckling capacity\n",
        "  if axis != section_properties['major_axis']:\n",
        "    # if we are considering minor axis bending take Mb_lat as infinity as it is not a failure mode\n",
        "    Mb_lat = Ms\n",
        "  elif axis == section_properties['major_axis'] and section_properties['symmetry axes'] in {'x','y','double'}:\n",
        "    # if section is symmetrical and under major axis bending then lateral buckling is assessed per Section 3.3.3.2\n",
        "    Mb_lat = nominal_member_moment_capacity_lateral(section_properties, member_properties)\n",
        "  \n",
        "  if section_properties['is subject to distortional buckling?'] == True:\n",
        "    Mb_dist = nominal_member_moment_capacity_distortional(section_properties,axis)\n",
        "  elif section_properties['is subject to distortional buckling?'] == False:\n",
        "    # if section is not subject to distortional buckling take Mb_dist as infinity as it is not a failure mode\n",
        "    Mb_dist = Ms\n",
        "\n",
        "  Mb = min(Mb_dist,Mb_lat, Ms)\n",
        "\n",
        "  return Mb"
      ],
      "metadata": {
        "id": "ZcTJESb8SR1V"
      },
      "execution_count": null,
      "outputs": []
    },
    {
      "cell_type": "markdown",
      "source": [
        "####3.3.3.2 Members subject to lateral buckling\n",
        "\n",
        "Only open, symmetric sections are considered here, using section 3.3.3.2.1. Closed sections should be assessed using section 3.3.3.2.2 - this is not yet included in the performance function. Non-symmetric sections are not covered in Section 3.3.3.2.\n",
        "\n",
        "Equation 3.3.3.2.1(1) calculates member moment capacity based on the section modulus, $Z_c$ for the stress at the extreme compression fibre. For simplicity (and conservativeness), we use the section modulus at yield, $Z_e$, here:\n",
        "\n",
        " >> $M_b=Z_cf_c\n",
        "  $\n",
        "\n",
        "  Note that this section is considered only for bending in the major axis. If a member is under minor axis bending with the load well above the shear centre then lateral buckling should be considered (https://drive.google.com/file/d/1VKn5xiGkKXTx5yUIZjhEseuQ2k_iPJ8x/view?usp=sharing)"
      ],
      "metadata": {
        "id": "M6xjHIdvEVSO"
      }
    },
    {
      "cell_type": "code",
      "source": [
        "def nominal_member_moment_capacity_lateral(section_properties, member_properties):\n",
        "  # this part only applies to symmetrical sections. if statement used to filter out incorrect use for non-symmetrical sections\n",
        "  if section_properties['symmetry axes'] == 'none':\n",
        "    Mb = 'Appendix D does not apply - M_o to be calculated by rational analysis'\n",
        "  elif section_properties['symmetry axes'] in {'x','y','double'}:\n",
        "    #get major axis Ze\n",
        "    section_properties = axis_setter(section_properties)\n",
        "    Ze_maj = section_properties['Ze_maj']\n",
        "\n",
        "    # get critical uckling stress\n",
        "    fc = critical_bending_stress_lateral(section_properties, member_properties)\n",
        "\n",
        "    # get nominal member buckling capacity\n",
        "    Mb = Ze_maj*fc\n",
        "  \n",
        "  else:\n",
        "    Mb = 'Symmetry axis incorrectly specified. Allowed values are: \"x\",\"y\",\"double\", \"none\"'\n",
        "\n",
        "  return Mb"
      ],
      "metadata": {
        "id": "SId6Mqc-ZGvS"
      },
      "execution_count": null,
      "outputs": []
    },
    {
      "cell_type": "markdown",
      "source": [
        "The stress $f_c$ is calculated using equation 3.3.3.2.1(2):\n",
        "\n",
        "$f_c = \\frac{M_c}{Z_f}\n",
        "$\n",
        "\n",
        "The critical moment, $M_c$, is calculated using equestions 3.3.3.2.1(3,4,5):\n",
        "\n",
        ">  For $\\lambda_b\\le 0.60: \\qquad\\qquad\\quad M_c=M_y\n",
        "$\n",
        "\n",
        "> For $ 0.60<\\lambda_b< 1.336: \\>\\> \\quad M_c=1.11M_y[1-\\frac{10\\lambda_b^2}{36}]\n",
        "$\n",
        "\n",
        ">  For $\\lambda_b\\ge 1.336: \\qquad\\qquad\\>\\>\\> M_c=M_y(\\frac{1}{\\lambda_b^2})\n",
        "$\n",
        "\n",
        "where:\n",
        "\n",
        "> $\\lambda_b = \\sqrt{\\frac{M_y}{M_o}} $\n",
        "\n",
        ">> $M_y = Z_ff_y $\n",
        "\n",
        ">> $M_o =$  as per Paragraph D2.1, Appendix D "
      ],
      "metadata": {
        "id": "iipuiAf0ZRuc"
      }
    },
    {
      "cell_type": "code",
      "source": [
        "def critical_bending_stress_lateral(section_properties, member_properties):\n",
        "  \n",
        "  section_properties = axis_setter(section_properties)\n",
        "\n",
        "  if section_properties['hole sections']['holes present?'] == False:\n",
        "    Zf = section_properties['Zf_maj']\n",
        "  else:\n",
        "    Zf = section_properties['hole sections']['Zmaj,net']\n",
        "  \n",
        "  Mc = critical_bending_moment_lateral(section_properties, member_properties)\n",
        "\n",
        "  fc = Mc/Zf\n",
        "  return fc"
      ],
      "metadata": {
        "id": "AtwKrBgpZgDg"
      },
      "execution_count": null,
      "outputs": []
    },
    {
      "cell_type": "code",
      "source": [
        "def critical_bending_moment_lateral(section_properties, member_properties):\n",
        "\n",
        "  # get major axis full section modulus\n",
        "  section_properties = axis_setter(section_properties)\n",
        "  if section_properties['hole sections']['holes present?'] == False:\n",
        "    Zf = section_properties['Zf_maj']\n",
        "  else:\n",
        "    Zf = section_properties['hole sections']['Zmaj,net']\n",
        "\n",
        "  # get yield strength\n",
        "  fy = section_properties['fy']\n",
        "\n",
        "  # get elastic buckling moment\n",
        "  # this part only applies to symmetrical sections. if statement used to filter out incorrect use for non-symmetrical sections\n",
        "  if section_properties['symmetry axes'] == 'none':\n",
        "    M_o = 'Appendix D does not apply - M_o to be calculated by rational analysis'\n",
        "  elif section_properties['symmetry axes'] in {'x','y','double'}:\n",
        "    M_o = elastic_lateral_torsional_buckling_moment(section_properties, member_properties)\n",
        "  else:\n",
        "    M_o = 'Symmetry axis incorrectly specified'\n",
        "\n",
        "  # get yield moment using eq. 3.3.3.2.1(7)\n",
        "  axis = section_properties['major_axis']\n",
        "  M_yield = yield_bending_moment(section_properties,axis)\n",
        "\n",
        "  # calculate slenderness ratio using eq 3.3.3.2.1(6)\n",
        "  lambda_b = (M_yield/M_o)**0.5\n",
        "\n",
        "  if lambda_b <= 0.6:\n",
        "    M_c = M_yield\n",
        "  elif lambda_b < 1.336:\n",
        "    M_c = 1.11*M_yield*(1-(10*lambda_b**2/36))\n",
        "  else:\n",
        "    M_c = M_yield*(1/lambda_b**2)\n",
        "\n",
        "  return M_c"
      ],
      "metadata": {
        "id": "O5IzpAdLlqWo"
      },
      "execution_count": null,
      "outputs": []
    },
    {
      "cell_type": "code",
      "source": [
        "def yield_bending_moment(section_properties,axis):\n",
        "  # get section properties for correct axis\n",
        "  fy = section_properties['fy']\n",
        "  if axis == 'x':\n",
        "    # full section modulus taken as Z,net where holes are present    \n",
        "    if section_properties['hole sections']['holes present?'] == True:\n",
        "      Zf = section_properties['hole sections']['Zx,net']\n",
        "    else:\n",
        "      Zf = section_properties['Zx']\n",
        "  elif axis == 'y':\n",
        "    # full section modulus taken as Z,net where holes are present    \n",
        "    if section_properties['hole sections']['holes present?'] == True:\n",
        "      Zf = section_properties['hole sections']['Zy,net']\n",
        "    else:\n",
        "      Zf = section_properties['Zy']\n",
        "  \n",
        "  \n",
        "  # calvulate yield moment using eq. 3.3.3.2.1(7)\n",
        "  M_yield = Zf*fy\n",
        "\n",
        "  return M_yield"
      ],
      "metadata": {
        "id": "dnRy8NdPG5mu"
      },
      "execution_count": null,
      "outputs": []
    },
    {
      "cell_type": "markdown",
      "source": [
        "####3.3.3.3 Members subject to distortional buckling\n",
        "\n",
        "Nominal member bending capacity, $M_b$, of sections subject to distortional buckling is calculated using eq. 3.3.3.3(1):\n",
        "\n",
        "$\\quad M_b=Z_cf_c\n",
        "$\n",
        "\n",
        "For the simplicity and conservativeness, $Z_e$ is used in place of $Z_c$\n",
        "\n",
        "Only Section 3.3.3.3(a) is covered here. This applies to most of the sections likely to be used, where the distortional buckling mode is bending of a flange. Section 3.3.3.3(b) covers the case where the flanges remain in plane but move laterally, and the web bends. This generally only applies where the flange has high torsional stiffness, for example where the flanges are a hollow section."
      ],
      "metadata": {
        "id": "CEs-Ry1pgLLG"
      }
    },
    {
      "cell_type": "markdown",
      "source": [
        "For Section 3.3.3.3(a):\n",
        "\n",
        "$\\quad f_c = \\frac{M_c}{Z_f}\n",
        "$\n",
        "\n",
        "> where:\n",
        "\n",
        "> $\\quad M_c$ = critical moment\n",
        "\n",
        ">$ \\quad Z_f$ = full section modulus\n",
        "\n",
        "The critical moment, $M_c$ is calaculated using eqs 3.3.3.3(3) and (4):\n",
        "\n",
        "> For $\\quad \\lambda_d\\le 0.674:\\quad M_c=M_y\n",
        "$\n",
        "\n",
        "> For $\\quad \\lambda_d> 0.674:\\quad M_c=\\frac{M_y}{\\lambda_d}(1-\\frac{0.22}{\\lambda_d})\n",
        "$\n",
        "\n",
        ">> where:\n",
        "\n",
        ">>$\\quad \\lambda_d=\\sqrt{\\frac{M_y}{M_{od}}} \\qquad\\qquad\\qquad\\qquad\\qquad\\qquad\\qquad\\qquad\\qquad\\qquad\\qquad (eq 3.3.3.3(8))\n",
        "$\n",
        "\n",
        ">>$\\quad M_y=$ moment causing inital yield at the extreme compression fibre of the full section.\n",
        "\n",
        ">>>$\\quad\\ = Z_ff_y\\qquad\\qquad\\qquad\\qquad\\qquad\\qquad\\qquad\\qquad\\qquad\\qquad\\qquad (eq 3.3.3.3.2.1(7))\n",
        "$\n",
        "\n",
        ">>$\\quad M_od=$ elastic buckling moment in the distortional mode.\n",
        "\n",
        ">>>$\\quad\\ = Z_ff_{od}\n",
        "$\n",
        "\n",
        ">>$\\quad f_od=$ elastic distortional buckling stress determined in accordance witha rational elastic buckling analysis or Paragraph D2.2, Appendix D\n",
        "\n",
        "Calculation of the elastic distortional buckling stress, $f_{od}$, per Appendix D2.2, is not currently covered in the AS/NZS 4600:2018 performance function and is instead entered as a property of a section. \n",
        "\n",
        "When new sections are created for use with the performance function, the elastic distortional buckling stress, $f_{od}$, should be calulated using AS/NZS 4600:2018 Appendix D2.2 or using FEA software such as ANSYS or CUFSM. Note that CUFSM does not allow for holes in sections - however equation D2.2.2(2) may be used to calaculate a modified thickness, $t_r$:\n",
        "\n",
        "$ \\quad t_r = (\\frac{A_{web,net}}{A_{web,gross}})^{\\frac{1}{3}}*t\n",
        "$\n",
        "\n",
        "Distortional buckling performance is independant of restraint spacing, so long as restraint spacing is greater than the distortional buckling half wavelength (denoted by $\\lambda$ in Appendix D1.2)"
      ],
      "metadata": {
        "id": "wnkxZlNOT9TL"
      }
    },
    {
      "cell_type": "code",
      "source": [
        "def nominal_member_moment_capacity_distortional(section_properties,axis):\n",
        "  # get section properties for correct axis\n",
        "  if axis == 'x':\n",
        "    Zc = section_properties['Zex']\n",
        "  elif axis == 'y':\n",
        "    Zc = section_properties['Zey']\n",
        "\n",
        "  # get critical stress\n",
        "  fc = critical_bending_stress_distortional(section_properties, axis)\n",
        "\n",
        "  # calculate Mb\n",
        "  Mb = Zc*fc\n",
        "\n",
        "  return Mb"
      ],
      "metadata": {
        "id": "Pnn0poL3B9wJ"
      },
      "execution_count": null,
      "outputs": []
    },
    {
      "cell_type": "code",
      "source": [
        "def critical_bending_stress_distortional(section_properties, axis):\n",
        "  # get section properties for correct axis\n",
        "  if axis == 'x':\n",
        "    # full section modulus taken as Z,net where holes are present    \n",
        "    if section_properties['hole sections']['holes present?'] == True:\n",
        "      Zf = section_properties['hole sections']['Zx,net']\n",
        "    else:\n",
        "      Zf = section_properties['Zx']\n",
        "  elif axis == 'y':\n",
        "    # full section modulus taken as Z,net where holes are present    \n",
        "    if section_properties['hole sections']['holes present?'] == True:\n",
        "      Zf = section_properties['hole sections']['Zy,net']\n",
        "    else:\n",
        "      Zf = section_properties['Zy']\n",
        "\n",
        "  # get critical bending moment\n",
        "  Mc = critical_bending_moment_distortional(section_properties, axis)\n",
        "\n",
        "  # calculate critical bending stress\n",
        "  fc = Mc/Zf\n",
        "\n",
        "  return fc"
      ],
      "metadata": {
        "id": "HGdVEkf3E7cU"
      },
      "execution_count": null,
      "outputs": []
    },
    {
      "cell_type": "code",
      "source": [
        "def critical_bending_moment_distortional(section_properties, axis):\n",
        "  # get slenderness ratio\n",
        "  lambda_d = slenderness_distortional(section_properties, axis)\n",
        "\n",
        "  # get yield bending moment\n",
        "  Myield = yield_bending_moment(section_properties,axis)\n",
        "\n",
        "  # calculate critical moment using eqs 3.3.3.3(3),(4)\n",
        "  if lambda_d <= 0.674:\n",
        "    Mc = Myield\n",
        "  elif lambda_d > 0.674:\n",
        "    Mc = (Myield/lambda_d)*(1-(0.22/lambda_d))\n",
        "\n",
        "  return Mc"
      ],
      "metadata": {
        "id": "_eAMJCRuFSYO"
      },
      "execution_count": null,
      "outputs": []
    },
    {
      "cell_type": "code",
      "source": [
        "def slenderness_distortional(section_properties, axis):\n",
        "  # get yield moment\n",
        "  Myield = yield_bending_moment(section_properties,axis)\n",
        "\n",
        "  # get elastic buckling moment in distortional buckling\n",
        "  Mod = buckling_moment_distortional(section_properties, axis)\n",
        "\n",
        "  # calculate slenderness ratio using eq 3.3.3.3(8)\n",
        "  lambda_d = (Myield/Mod)**0.5\n",
        "\n",
        "  return lambda_d"
      ],
      "metadata": {
        "id": "MMYQGmfqF9T9"
      },
      "execution_count": null,
      "outputs": []
    },
    {
      "cell_type": "code",
      "source": [
        "def buckling_moment_distortional(section_properties, axis):\n",
        "  # get section properties for correct axis\n",
        "  if axis == 'x':\n",
        "    fod = section_properties['fod']['fod_x']\n",
        "    # full section modulus taken as Z,net where holes are present    \n",
        "    if section_properties['hole sections']['holes present?'] == True:\n",
        "      Zf = section_properties['hole sections']['Zx,net']\n",
        "    else:\n",
        "      Zf = section_properties['Zx']\n",
        "  elif axis == 'y':\n",
        "    fod = section_properties['fod']['fod_y']\n",
        "    # full section modulus taken as Z,net where holes are present    \n",
        "    if section_properties['hole sections']['holes present?'] == True:\n",
        "      Zf = section_properties['hole sections']['Zy,net']\n",
        "    else:\n",
        "      Zf = section_properties['Zy']\n",
        "\n",
        "  # calculate elastic buckling moment in distortional mode using eq 3.3.3.3(9)\n",
        "  Mod = Zf*fod\n",
        "\n",
        "  return Mod"
      ],
      "metadata": {
        "id": "SYSG7ZGaLm7w"
      },
      "execution_count": null,
      "outputs": []
    },
    {
      "cell_type": "markdown",
      "source": [
        "## 3.4 Concentrically loaded compression members"
      ],
      "metadata": {
        "id": "TiApA8FYdtq7"
      }
    },
    {
      "cell_type": "markdown",
      "source": [
        "### 3.4.1 General\n",
        "\n",
        "The design axial compressive force should satisfy the following:\n",
        "\n",
        "(a)$\\quad N*\\le\\phi_cN_s\n",
        "$\n",
        "\n",
        "(b)$\\quad N*\\le\\phi_cN_c\n",
        "$"
      ],
      "metadata": {
        "id": "V8tQD6R5d5i_"
      }
    },
    {
      "cell_type": "markdown",
      "source": [
        "where:\n",
        "\n",
        "> $\\phi_c=$ capacity reduction factor per table 1.6.3\n",
        "\n",
        ">$N_s=$ nominal section capacityof the member in compression\n",
        "\n",
        ">$\\quad\\ = A_ef_y$\n",
        "\n",
        ">$\\qquad\\ \\ A_e =$ effective area at yield stress ($f_y$)\n",
        "\n",
        ">$N_c =$ nominal member capacity of the member in compression\n",
        "\n",
        ">$\\quad\\ = A_ef_n$\n",
        "\n",
        ">$\\qquad\\ \\ A_e =$ effective area at critical stress ($f_n$). For simplicity and conservativeness this is taken as effictive area at yield stress here\n",
        "\n",
        ">$\\qquad\\ \\ f_n =$ critical stress:\n",
        "\n",
        ">>> For $\\lambda_c \\ le 1.5: f_n=(0.658^{\\lambda_c^2})f_y\n",
        "$\n",
        "\n",
        ">>> For $\\lambda_c > 1.5: f_n=(\\frac{0.877}{\\lambda_c^2})f_y\n",
        "$\n",
        "\n",
        ">> where:\n",
        "\n",
        ">>> $\\lambda_c= \\sqrt{\\frac{f_y}{f_{oc}}}$\n",
        "\n",
        ">>> $f_{oc}=$ least of the elastic flexural, torsional and flexural-torsional buckling stresses. For this performance function this is provided as part of the section properties, and must be calculated when defining the section.\n",
        "\n"
      ],
      "metadata": {
        "id": "8boMOeFrzSZ6"
      }
    },
    {
      "cell_type": "code",
      "source": [
        "def Clause_3_4_compression_unity(section_properties,member_properties):\n",
        "  # get phi_c from Table 1.6.3\n",
        "  phi_c = table1_6_3.loc[table1_6_3['Reference'] == '3.4','Capacity Reduction Factor']\n",
        "  phi_c = phi_c.iloc[0]\n",
        "\n",
        "  # get section compression capacity\n",
        "  Ns = nominal_section_compression_capacity(section_properties)\n",
        "\n",
        "  # get member compression capacity\n",
        "  Nc = nominal_member_compression_capacity(section_properties, member_properties)\n",
        "\n",
        "  # get compression action. If N action is positive this indicates member tension, so compression is zero. Negative action is converted to positive\n",
        "  if member_properties['N'] <= 0:\n",
        "    N_action = -member_properties['N']\n",
        "  else:\n",
        "    N_action = 0\n",
        "    \n",
        "  # unity per 3.4.1(a)\n",
        "  unity_a = N_action/(phi_c*Ns)\n",
        "\n",
        "  # unity per 3.4.1(b)\n",
        "  unity_b = N_action/(phi_c*Nc)\n",
        "\n",
        "  # governing unity\n",
        "  compression_unity = max(unity_a, unity_b)\n",
        "\n",
        "  return compression_unity"
      ],
      "metadata": {
        "id": "KJV3NO1v2jj2"
      },
      "execution_count": null,
      "outputs": []
    },
    {
      "cell_type": "code",
      "source": [
        "def nominal_section_compression_capacity(section_properties):\n",
        "  # get Ae, fy from section properties\n",
        "  Ae = section_properties['Ae']\n",
        "  fy =section_properties['fy']\n",
        "\n",
        "  # calculate Ns using eq 3.4.1(1)\n",
        "  Ns = Ae*fy\n",
        "\n",
        "  return Ns"
      ],
      "metadata": {
        "id": "YB2N8Pc9mTdI"
      },
      "execution_count": null,
      "outputs": []
    },
    {
      "cell_type": "code",
      "source": [
        "def nominal_member_compression_capacity(section_properties, member_properties):\n",
        "  # get Ae, fy, foc from section properties\n",
        "  Ae = section_properties['Ae']\n",
        "  fy =section_properties['fy']\n",
        "\n",
        "  # get fn\n",
        "  fn = critical_stress_compression(section_properties, member_properties)\n",
        "\n",
        "  # calculate Nc using eq 3.4.1(2)\n",
        "  Nc = Ae*fn\n",
        "\n",
        "  return Nc"
      ],
      "metadata": {
        "id": "RTMyyW_mmyD_"
      },
      "execution_count": null,
      "outputs": []
    },
    {
      "cell_type": "code",
      "source": [
        "def critical_stress_compression(section_properties, member_properties):\n",
        "  # get fy from section properties\n",
        "  fy =section_properties['fy']\n",
        "\n",
        "  # get lambda_c \n",
        "  lambda_c = slenderness_compression(section_properties, member_properties)\n",
        "\n",
        "  if lambda_c <= 1.5:\n",
        "    # eq 3.4.1(3)\n",
        "    fn =(0.658**((lambda_c)**2))*fy\n",
        "  else:\n",
        "    # eq 3.4.1(4)\n",
        "    fn = (0.877/(lambda_c**2))*fy\n",
        "\n",
        "  return fn"
      ],
      "metadata": {
        "id": "fyaZuNGknqv_"
      },
      "execution_count": null,
      "outputs": []
    },
    {
      "cell_type": "code",
      "source": [
        "def slenderness_compression(section_properties, member_properties):\n",
        "  # get fy from section properties\n",
        "  fy =section_properties['fy']\n",
        "\n",
        "  # get elastic flexural buckling stress \n",
        "  foc = elastic_flexural_buckling_stress(section_properties, member_properties)\n",
        "\n",
        "  # calculate lambda_c using eq 3.4.1(5)\n",
        "  lambda_c = (fy/foc)**0.5\n",
        "  \n",
        "  return lambda_c"
      ],
      "metadata": {
        "id": "S2Cnic4VoTbd"
      },
      "execution_count": null,
      "outputs": []
    },
    {
      "cell_type": "markdown",
      "source": [
        "## 3.5 Combined Axial compression or tension, and bending"
      ],
      "metadata": {
        "id": "a8d21R62NUGl"
      }
    },
    {
      "cell_type": "markdown",
      "source": [
        "Function below can be called when it is unknown whether the member will be in tension or compression. It will selct the correct unity equations to evaluate and return that unity value."
      ],
      "metadata": {
        "id": "thufZGHkiFYG"
      }
    },
    {
      "cell_type": "code",
      "source": [
        "def Clause_3_5_combined_axial_compression_or_tension_and_bending(section_properties,member_properties):\n",
        "  if member_properties['N'] <= 0:\n",
        "    # if axial load is negative (i.e. compression) use Section 3.5.1. This also includes cases with no axial load although this is not defined in the standard\n",
        "    unity = combined_bending_compression(section_properties,member_properties)\n",
        "  else:\n",
        "    # if axial load is positive (i.e. tension) use Section 3.5.2.\n",
        "    unity = combined_bending_tension(section_properties,member_properties)\n",
        "  \n",
        "  return unity"
      ],
      "metadata": {
        "id": "WQlRwx-kiWZD"
      },
      "execution_count": null,
      "outputs": []
    },
    {
      "cell_type": "markdown",
      "source": [
        "### 3.5.1 Combined axial compression and bending\n",
        "\n",
        "Combined axial compression and bending is checked using eqs 3.5.1(1),(2),(3).\n",
        "\n",
        "$C_{mx}$, $C_{my}$ are taken as 1.0 for cantilevered members (as one end will be unrestrained), and 0.85 for all other members for simplicity and conservativeness. \n",
        "\n",
        "$\\alpha_{nx}$, $\\alpha_{ny}$ are calculated in functions defined here.\n",
        "\n",
        "$N_c$,$N_s$, $M_{bx}$, $M_{by}$, $N_c$,$N_s$ are calaculated using the functions defined in Sections 3.3 and 3.4"
      ],
      "metadata": {
        "id": "XnCnZnwJNYZz"
      }
    },
    {
      "cell_type": "code",
      "source": [
        "def combined_bending_compression(section_properties,member_properties):\n",
        "  # get phi_b for member bending from Table 1.6.3 dataframe. .loc gets the series corresponding to 'Reference' = 3.2, .iloc[0] takes the first value of this series, which is the phi factor\n",
        "  phi_b_m = table1_6_3.loc[table1_6_3['Reference'] == '3.3.3','Capacity Reduction Factor'].iloc[0]\n",
        "\n",
        "  # get phi_c from Table 1.6.3\n",
        "  phi_c = table1_6_3.loc[table1_6_3['Reference'] == '3.4','Capacity Reduction Factor']\n",
        "  phi_c = phi_c.iloc[0]\n",
        "\n",
        "  # set Cmx and Cmy. This is 0.85 unless 'is cantilever?' input is True, in which case one end is unrestrained therefore C_m = 1\n",
        "  if member_properties['cantilevered?'] == True:\n",
        "    Cmx, Cmy = 1,1\n",
        "  else:\n",
        "    Cmx, Cmy = 0.85, 0.85\n",
        "\n",
        "  # get moment amplification factors \n",
        "  alpha_nx = moment_amplification_factor(section_properties,member_properties, 'x')\n",
        "  alpha_ny = moment_amplification_factor(section_properties,member_properties, 'y')\n",
        "\n",
        "  # get actions. No compression action will be returned if axial action is postive (i.e. tension). Moments are converted to absolute values at this point\n",
        "  if member_properties['N'] <= 0:\n",
        "    N_action = -member_properties['N']\n",
        "  \n",
        "  Mx_action = abs(member_properties['Mx'])\n",
        "  My_action = abs(member_properties['My'])\n",
        "\n",
        "  # get capacities from Sections 3.3, 3.4. \n",
        "  Nc = nominal_member_compression_capacity(section_properties, member_properties)\n",
        "  Ns = nominal_section_compression_capacity(section_properties)\n",
        "  Mbx = nominal_member_bending_capacity(section_properties, member_properties, 'x', nominal_section_moment_capacity(section_properties)[0])\n",
        "  Mby = nominal_member_bending_capacity(section_properties, member_properties, 'y', nominal_section_moment_capacity(section_properties)[1])\n",
        "\n",
        "  # calculate unities\n",
        "  if N_action/(phi_c*Nc) > 0.15:\n",
        "    # eq 3.5.1(1)\n",
        "    unity_1 = (N_action/(phi_c*Nc)) + (Cmx*Mx_action/(phi_b_m*Mbx*alpha_nx)) + (Cmy*My_action/(phi_b_m*Mby*alpha_ny))\n",
        "\n",
        "    # eq 3.5.1(2)\n",
        "    unity_2 = (N_action/(phi_c*Ns)) + (Mx_action/(phi_b_m*Mbx)) + (My_action/(phi_b_m*Mby))\n",
        "\n",
        "    unity = min(unity_1, unity_2)\n",
        "\n",
        "  else:\n",
        "    # eq 3.5.1(3)\n",
        "    unity = (N_action/(phi_c*Nc)) + (Mx_action/(phi_b_m*Mbx)) + (My_action/(phi_b_m*Mby))\n",
        "\n",
        "  return unity"
      ],
      "metadata": {
        "id": "HItBrGwnQbIE"
      },
      "execution_count": null,
      "outputs": []
    },
    {
      "cell_type": "code",
      "source": [
        "def moment_amplification_factor(section_properties,member_properties, axis):\n",
        "  # get axis dependent properties\n",
        "  if axis == 'x':\n",
        "    Ib = section_properties['Ix']\n",
        "    leb = member_properties['lex']\n",
        "  elif axis == 'y':\n",
        "    Ib = section_properties['Iy']\n",
        "    leb = member_properties['ley']\n",
        "\n",
        "  # get non axis dependant properties\n",
        "  E = section_properties['E']\n",
        "  \n",
        "  # get compression action, and turn to positive number. If axial force in member is poitive (i.e. tension) no result will be returned, as this function is for compression only\n",
        "  if member_properties['N'] <= 0:\n",
        "    N_action = -member_properties['N']\n",
        "\n",
        "  # calculate elastic buckling load using eq 3.5.1(6)\n",
        "  Ne = (E*Ib*math.pi**2)/(leb**2)\n",
        "\n",
        "  # calculate moment amplification factor using eq 3.5.1(5)\n",
        "  alphan = 1-(N_action/Ne)\n",
        "\n",
        "  return alphan\n"
      ],
      "metadata": {
        "id": "K02iqABvSBBV"
      },
      "execution_count": null,
      "outputs": []
    },
    {
      "cell_type": "markdown",
      "source": [
        "### 3.5.2 Combined axial tension and bending\n",
        "\n",
        "Combined axial tension and bending is checked using eqs 3.5.2(1),(2).\n",
        "\n",
        "$M_{sxf}$, $M_{syf}$ are calulated per eq 3.5.2(3)\n",
        "\n",
        "$N_t$, $M_{bx}$, $M_{by}$, $N_c$,$N_s$ are calaculated using the functions defined in Sections 3.3 and 3.4"
      ],
      "metadata": {
        "id": "gOcqIuwRaj9V"
      }
    },
    {
      "cell_type": "code",
      "source": [
        "def combined_bending_tension(section_properties,member_properties):\n",
        "  # get phi_b for member bending from Table 1.6.3 dataframe. .loc gets the series corresponding to 'Reference' = 3.2, .iloc[0] takes the first value of this series, which is the phi factor\n",
        "  phi_b_m = table1_6_3.loc[table1_6_3['Reference'] == '3.3.3','Capacity Reduction Factor'].iloc[0]\n",
        "\n",
        "  # get phi_t from Table 1.6.3 dataframe. .loc gets the series corresponding to 'Reference' = 3.2, .iloc[0] takes the first value of this series, which is the phi factor\n",
        "  phi_t = table1_6_3.loc[table1_6_3['Reference'] == '3.2','Capacity Reduction Factor'].iloc[0]\n",
        "\n",
        "  # get actions. No tension action will be returned if axial action is negative (i.e. compression). Moments converted to absolute values here\n",
        "  if member_properties['N'] >= 0:\n",
        "    N_action = member_properties['N']\n",
        "  \n",
        "  Mx_action = abs(member_properties['Mx'])\n",
        "  My_action = abs(member_properties['My'])\n",
        "\n",
        "  # calculate full section yield moments with eq 3.5.2(3)\n",
        "  # get full section moduli\n",
        "  Zxft, Zyft = section_properties['Zx'], section_properties['Zy']\n",
        "  fy = section_properties['fy']\n",
        "  Msxf = Zxft*fy\n",
        "  Msyf = Zyft*fy\n",
        "\n",
        "  # get capacities from Sections 3.3, 3.4. \n",
        "  Nt = nominal_section_tension_capacity(section_properties,kt=0.75)\n",
        "  Mbx = nominal_member_bending_capacity(section_properties, member_properties, 'x', nominal_section_moment_capacity(section_properties)[0])\n",
        "  Mby = nominal_member_bending_capacity(section_properties, member_properties, 'y', nominal_section_moment_capacity(section_properties)[1])\n",
        "\n",
        "  # calculate unities\n",
        "  unity1 = (Mx_action/(phi_b_m*Mbx))  + (My_action/(phi_b_m*Mby))  - (N_action/(phi_t*Nt))\n",
        "  unity2 = (Mx_action/(phi_b_m*Msxf)) + (My_action/(phi_b_m*Msyf)) + (N_action/(phi_t*Nt)) \n",
        "\n",
        "  unity = max(unity1, unity2)\n",
        "\n",
        "  return unity"
      ],
      "metadata": {
        "id": "rD7qfD-VbANF"
      },
      "execution_count": null,
      "outputs": []
    },
    {
      "cell_type": "markdown",
      "source": [
        "# 5. Connections"
      ],
      "metadata": {
        "id": "8m2cPP0R-luh"
      }
    },
    {
      "cell_type": "markdown",
      "source": [
        "A main function is defined for both shear and tension capacity to ensure the correct connection type is checked."
      ],
      "metadata": {
        "id": "SxIrXGBJVjES"
      }
    },
    {
      "cell_type": "code",
      "source": [
        "def Clauses_5_2_and_5_3_connection_shear_unity(connection_properties):\n",
        "  # get connection type\n",
        "  connection_type = connection_properties['connection type']\n",
        "  \n",
        "  if connection_type == 'welded':\n",
        "    unity = 'Error - welded connections not currently covered'\n",
        "  elif connection_type == 'bolted':\n",
        "    unity = bolted_connection_shear_unity(connection_properties)\n",
        "  elif connection_type == 'screwed':\n",
        "    unity = 'Error - Screwed connections not currently covered'\n",
        "  else:\n",
        "    unity = 'Error - Connection type not recognised'\n",
        "\n",
        "  return unity"
      ],
      "metadata": {
        "id": "pW_nv-uFWJIc"
      },
      "execution_count": null,
      "outputs": []
    },
    {
      "cell_type": "markdown",
      "source": [
        "##5.2 Welded connections\n",
        "\n",
        "Not covered yet"
      ],
      "metadata": {
        "id": "We9bbn6A-r8D"
      }
    },
    {
      "cell_type": "markdown",
      "source": [
        "## 5.3 Bolted Connections\n",
        "\n",
        "The geometry requirements given in Section 5.3.1 are not checked here.\n",
        "\n",
        "Strength of the bolt itself is not evaluated, as this does not typically limit for connections in thin cold formed steel.\n",
        "\n",
        "The shear capacity for bolted connections is calculated based on the worst case of:\n",
        "\n",
        "- Tearout per Section 5.3.2\n",
        "- Net section tension per Section 5.3.3\n",
        "- Bearing per Section 5.3.4 (limited hole deformation per Section 5.3.4.3 is not currently covered)\n",
        "\n",
        "The tension capacity is also calculated based on the pull-over/ pull-through capacity for screws per Section 5.4.3.2. Although this is given for screws it is conservative to use for bolts so long as washers are used.\n",
        "\n",
        "Note that this covers capacity for a single bolt. In cases where connections have multiple bolts, the load per bolt will be calculated by the relevant performance function and compared against the capacity calculated here."
      ],
      "metadata": {
        "id": "_8NknZWH-28l"
      }
    },
    {
      "cell_type": "code",
      "source": [
        "def bolted_connection_shear_unity(connection_properties):\n",
        "  unity_tearout = bolt_tearout_unity(connection_properties)\n",
        "  unity_net_section_tension = bolt_net_section_tension(connection_properties)\n",
        "  unity_bearing = bolt_bearing(connection_properties)\n",
        "\n",
        "  unity = max(unity_tearout, unity_net_section_tension, unity_bearing)\n",
        "\n",
        "  return unity"
      ],
      "metadata": {
        "id": "s1S14oJJAbY9"
      },
      "execution_count": null,
      "outputs": []
    },
    {
      "cell_type": "markdown",
      "source": [
        "### 5.3.2 Tearout"
      ],
      "metadata": {
        "id": "yjLPeSzF98Gd"
      }
    },
    {
      "cell_type": "code",
      "source": [
        "def bolt_tearout_unity(connection_properties):\n",
        "  # tearout capacity checked for both sections, per Section 5.3.2\n",
        "\n",
        "  # get action\n",
        "  V = connection_properties['V']\n",
        "\n",
        "  # get connection properties\n",
        "  t1 = connection_properties['t1']\n",
        "  e1 = connection_properties['e1']\n",
        "  fy1 = connection_properties['fy1']\n",
        "  fu1 = connection_properties['fu1']\n",
        "  t2 = connection_properties['t2']\n",
        "  e2 = connection_properties['e2']\n",
        "  fy2 = connection_properties['fy2']\n",
        "  fu2 = connection_properties['fu2']\n",
        "\n",
        "  # calculate unity for sheet 1, per eq 5.2.3(1)\n",
        "  # calculate phi\n",
        "  if fu1/fy1 >= 1.05:\n",
        "    phi1 = 0.7\n",
        "  elif fu1/fy1 < 1.05:\n",
        "    phi1 = 0.6\n",
        "  \n",
        "  # calculate Vf per eq. 5.3.2(2)\n",
        "  Vf1 = t1*e1*fu1\n",
        "\n",
        "  # calculate unity for sheet 1\n",
        "  unity1 = V/(phi1*Vf1)\n",
        "\n",
        "\n",
        "  # calculate unity for sheet 2, per eq 5.2.3(1)\n",
        "  # calculate phi\n",
        "  if fu2/fy2 >= 1.05:\n",
        "    phi2 = 0.7\n",
        "  elif fu2/fy2 < 1.05:\n",
        "    phi2 = 0.6\n",
        "  \n",
        "  # calculate Vf per eq. 5.3.2(2)\n",
        "  Vf2 = t2*e2*fu2\n",
        "\n",
        "  # calculate unity for sheet 2\n",
        "  unity2 = V/(phi2*Vf2)\n",
        "\n",
        "\n",
        "  # calculate worst case unity\n",
        "  unity = max(unity1, unity2)\n",
        "\n",
        "  return unity"
      ],
      "metadata": {
        "id": "5EcNH9lKHOCj"
      },
      "execution_count": null,
      "outputs": []
    },
    {
      "cell_type": "markdown",
      "source": [
        "### 5.3.3 Net section tension"
      ],
      "metadata": {
        "id": "StU7Iwp69_7P"
      }
    },
    {
      "cell_type": "code",
      "source": [
        "def bolt_net_section_tension(connection_properties):\n",
        "  # net section tension capacity checked for both sections, per Section 5.3.3\n",
        "\n",
        "  # get action\n",
        "  V = connection_properties['V']\n",
        "  \n",
        "  # get connection properties\n",
        "  df = connection_properties['connection size']\n",
        "  t1 = connection_properties['t1']\n",
        "  fu1 = connection_properties['fu1']\n",
        "  An1 = connection_properties['An1']\n",
        "  t2 = connection_properties['t2']\n",
        "  fu2 = connection_properties['fu2']\n",
        "  An2 = connection_properties['An2']\n",
        "\n",
        "  # if fastener spacing perpendicular to shear force is not filled in, take the sheet widths perpendicular to shear force\n",
        "  if (connection_properties['spacing'] == None) or (connection_properties['spacing'] == 0):\n",
        "    s1 = connection_properties['w1']\n",
        "    s2 = connection_properties['w2']\n",
        "  else:\n",
        "    s1 = connection_properties['spacing']\n",
        "    s2 =  connection_properties['spacing']\n",
        "  \n",
        "  # get phi from Table 1.6.3 dataframe. .loc gets the series corresponding to 'Reference' = 5.3.3, .iloc[0] takes the first value of this series, which is the phi factor\n",
        "  phi = table1_6_3.loc[table1_6_3['Reference'] == '5.3.3','Capacity Reduction Factor'].iloc[0]\n",
        "\n",
        "  # calculate Nf per eq. 5.3.3(2) for each member, and take the lowest value\n",
        "  Nf1 = (0.9 + (0.1*df/s1))*An1*fu1\n",
        "  Nf2 = (0.9 + (0.1*df/s2))*An2*fu2\n",
        "  Nf = min(Nf1, Nf2)\n",
        "\n",
        "  unity = V/(phi*Nf)\n",
        "\n",
        "  return unity"
      ],
      "metadata": {
        "id": "3vp2O9t4JeiD"
      },
      "execution_count": null,
      "outputs": []
    },
    {
      "cell_type": "markdown",
      "source": [
        "### 5.3.4 Bearing\n",
        "\n",
        "This section inludes Table 5.3.4.2(A). This must be accessed by the engineering method, and the appropriate value of alpha provided as part of the `connection_properties` dict provided to the `bolt_bearing` function. "
      ],
      "metadata": {
        "id": "tA04DDHs-Dqd"
      }
    },
    {
      "cell_type": "markdown",
      "source": [
        "#### Table 5.3.4.2(A)"
      ],
      "metadata": {
        "id": "tAwMdVzL_IQA"
      }
    },
    {
      "cell_type": "code",
      "source": [
        "#@title Table 5.3.4.2(A) - Modification factor ($\\alpha$) for type of bearing connection { vertical-output: true }\n",
        "\n",
        "table5_3_4_2A = pd.DataFrame([\n",
        "                                ['Single shear and outside sheets of double shear connection with washers under both bolt head and nut',1],\n",
        "                                ['Single shear and outside sheets of double shear connection without washers under both bolt head and nut, or with only one washer',0.75],\n",
        "                                ['Single shear and outside sheets of double shear connection using oversized or short-slotted holes parallel to the applied load without washers under both bolt head and nut, or with only one washer',0.7],\n",
        "                                ['Single shear and outside sheets of double shear connection using oversized or short-slotted holes perpendicular to the applied load without washers under both bolt head and nut, or with only one washer',0.55],\n",
        "                                ['Inside sheet of double shear connection with or without washers',1.33,],\n",
        "                                ['Inside sheet of double shear connection using oversized or short-slotted holes parallel to the applied load with or without washers',1.10],\n",
        "                                ['Inside sheet of double shear connection using oversized or short-slotted holes perpendicular to the applied load with or without washers',0.9]\n",
        "                                ],\n",
        "                                columns = ['Type of bearing','alpha']\n",
        "                                )\n",
        "\n",
        "table5_3_4_2A"
      ],
      "metadata": {
        "colab": {
          "base_uri": "https://localhost:8080/"
        },
        "id": "WtphpzaT_SBr",
        "outputId": "a37a590b-b4ee-4f49-893a-9b30b971a453",
        "cellView": "form"
      },
      "execution_count": null,
      "outputs": [
        {
          "output_type": "execute_result",
          "data": {
            "text/plain": [
              "                                     Type of bearing  alpha\n",
              "0  Single shear and outside sheets of double shea...   1.00\n",
              "1  Single shear and outside sheets of double shea...   0.75\n",
              "2  Single shear and outside sheets of double shea...   0.70\n",
              "3  Single shear and outside sheets of double shea...   0.55\n",
              "4  Inside sheet of double shear connection with o...   1.33\n",
              "5  Inside sheet of double shear connection using ...   1.10\n",
              "6  Inside sheet of double shear connection using ...   0.90"
            ],
            "text/html": [
              "\n",
              "  <div id=\"df-445a0cdd-c062-4735-b53c-6cb9384950da\">\n",
              "    <div class=\"colab-df-container\">\n",
              "      <div>\n",
              "<style scoped>\n",
              "    .dataframe tbody tr th:only-of-type {\n",
              "        vertical-align: middle;\n",
              "    }\n",
              "\n",
              "    .dataframe tbody tr th {\n",
              "        vertical-align: top;\n",
              "    }\n",
              "\n",
              "    .dataframe thead th {\n",
              "        text-align: right;\n",
              "    }\n",
              "</style>\n",
              "<table border=\"1\" class=\"dataframe\">\n",
              "  <thead>\n",
              "    <tr style=\"text-align: right;\">\n",
              "      <th></th>\n",
              "      <th>Type of bearing</th>\n",
              "      <th>alpha</th>\n",
              "    </tr>\n",
              "  </thead>\n",
              "  <tbody>\n",
              "    <tr>\n",
              "      <th>0</th>\n",
              "      <td>Single shear and outside sheets of double shea...</td>\n",
              "      <td>1.00</td>\n",
              "    </tr>\n",
              "    <tr>\n",
              "      <th>1</th>\n",
              "      <td>Single shear and outside sheets of double shea...</td>\n",
              "      <td>0.75</td>\n",
              "    </tr>\n",
              "    <tr>\n",
              "      <th>2</th>\n",
              "      <td>Single shear and outside sheets of double shea...</td>\n",
              "      <td>0.70</td>\n",
              "    </tr>\n",
              "    <tr>\n",
              "      <th>3</th>\n",
              "      <td>Single shear and outside sheets of double shea...</td>\n",
              "      <td>0.55</td>\n",
              "    </tr>\n",
              "    <tr>\n",
              "      <th>4</th>\n",
              "      <td>Inside sheet of double shear connection with o...</td>\n",
              "      <td>1.33</td>\n",
              "    </tr>\n",
              "    <tr>\n",
              "      <th>5</th>\n",
              "      <td>Inside sheet of double shear connection using ...</td>\n",
              "      <td>1.10</td>\n",
              "    </tr>\n",
              "    <tr>\n",
              "      <th>6</th>\n",
              "      <td>Inside sheet of double shear connection using ...</td>\n",
              "      <td>0.90</td>\n",
              "    </tr>\n",
              "  </tbody>\n",
              "</table>\n",
              "</div>\n",
              "      <button class=\"colab-df-convert\" onclick=\"convertToInteractive('df-445a0cdd-c062-4735-b53c-6cb9384950da')\"\n",
              "              title=\"Convert this dataframe to an interactive table.\"\n",
              "              style=\"display:none;\">\n",
              "        \n",
              "  <svg xmlns=\"http://www.w3.org/2000/svg\" height=\"24px\"viewBox=\"0 0 24 24\"\n",
              "       width=\"24px\">\n",
              "    <path d=\"M0 0h24v24H0V0z\" fill=\"none\"/>\n",
              "    <path d=\"M18.56 5.44l.94 2.06.94-2.06 2.06-.94-2.06-.94-.94-2.06-.94 2.06-2.06.94zm-11 1L8.5 8.5l.94-2.06 2.06-.94-2.06-.94L8.5 2.5l-.94 2.06-2.06.94zm10 10l.94 2.06.94-2.06 2.06-.94-2.06-.94-.94-2.06-.94 2.06-2.06.94z\"/><path d=\"M17.41 7.96l-1.37-1.37c-.4-.4-.92-.59-1.43-.59-.52 0-1.04.2-1.43.59L10.3 9.45l-7.72 7.72c-.78.78-.78 2.05 0 2.83L4 21.41c.39.39.9.59 1.41.59.51 0 1.02-.2 1.41-.59l7.78-7.78 2.81-2.81c.8-.78.8-2.07 0-2.86zM5.41 20L4 18.59l7.72-7.72 1.47 1.35L5.41 20z\"/>\n",
              "  </svg>\n",
              "      </button>\n",
              "      \n",
              "  <style>\n",
              "    .colab-df-container {\n",
              "      display:flex;\n",
              "      flex-wrap:wrap;\n",
              "      gap: 12px;\n",
              "    }\n",
              "\n",
              "    .colab-df-convert {\n",
              "      background-color: #E8F0FE;\n",
              "      border: none;\n",
              "      border-radius: 50%;\n",
              "      cursor: pointer;\n",
              "      display: none;\n",
              "      fill: #1967D2;\n",
              "      height: 32px;\n",
              "      padding: 0 0 0 0;\n",
              "      width: 32px;\n",
              "    }\n",
              "\n",
              "    .colab-df-convert:hover {\n",
              "      background-color: #E2EBFA;\n",
              "      box-shadow: 0px 1px 2px rgba(60, 64, 67, 0.3), 0px 1px 3px 1px rgba(60, 64, 67, 0.15);\n",
              "      fill: #174EA6;\n",
              "    }\n",
              "\n",
              "    [theme=dark] .colab-df-convert {\n",
              "      background-color: #3B4455;\n",
              "      fill: #D2E3FC;\n",
              "    }\n",
              "\n",
              "    [theme=dark] .colab-df-convert:hover {\n",
              "      background-color: #434B5C;\n",
              "      box-shadow: 0px 1px 3px 1px rgba(0, 0, 0, 0.15);\n",
              "      filter: drop-shadow(0px 1px 2px rgba(0, 0, 0, 0.3));\n",
              "      fill: #FFFFFF;\n",
              "    }\n",
              "  </style>\n",
              "\n",
              "      <script>\n",
              "        const buttonEl =\n",
              "          document.querySelector('#df-445a0cdd-c062-4735-b53c-6cb9384950da button.colab-df-convert');\n",
              "        buttonEl.style.display =\n",
              "          google.colab.kernel.accessAllowed ? 'block' : 'none';\n",
              "\n",
              "        async function convertToInteractive(key) {\n",
              "          const element = document.querySelector('#df-445a0cdd-c062-4735-b53c-6cb9384950da');\n",
              "          const dataTable =\n",
              "            await google.colab.kernel.invokeFunction('convertToInteractive',\n",
              "                                                     [key], {});\n",
              "          if (!dataTable) return;\n",
              "\n",
              "          const docLinkHtml = 'Like what you see? Visit the ' +\n",
              "            '<a target=\"_blank\" href=https://colab.research.google.com/notebooks/data_table.ipynb>data table notebook</a>'\n",
              "            + ' to learn more about interactive tables.';\n",
              "          element.innerHTML = '';\n",
              "          dataTable['output_type'] = 'display_data';\n",
              "          await google.colab.output.renderOutput(dataTable, element);\n",
              "          const docLink = document.createElement('div');\n",
              "          docLink.innerHTML = docLinkHtml;\n",
              "          element.appendChild(docLink);\n",
              "        }\n",
              "      </script>\n",
              "    </div>\n",
              "  </div>\n",
              "  "
            ]
          },
          "metadata": {},
          "execution_count": 36
        }
      ]
    },
    {
      "cell_type": "code",
      "source": [
        "def bolt_bearing(connection_properties):\n",
        "  # bolt bearing capacity checked for both sections, per Section 5.3.4\n",
        "  \n",
        "  # get action\n",
        "  V = connection_properties['V']\n",
        "\n",
        "  # get connection properties\n",
        "  df = connection_properties['connection size']\n",
        "  t1 = connection_properties['t1']\n",
        "  fu1 = connection_properties['fu1']\n",
        "  alpha1 = connection_properties['alpha1']\n",
        "  t2 = connection_properties['t2']\n",
        "  fu2 = connection_properties['fu2']\n",
        "  alpha2 = connection_properties['alpha2']\n",
        "\n",
        "  # define phi per Section 5.3.4.2\n",
        "  phi = 0.6\n",
        "\n",
        "  # calculate nominal bearing capacity for each sheet, per eq. 5.3.4.2\n",
        "  # calculate bearing factor, C, per Tabke 5.3.4.2(B). Use a function as it is quite a large nested if statement and it is repeated for both sheets\n",
        "  def bearing_factor(df, t):\n",
        "    # initialise C as 0, so it will be 0 if thickness is out of bounds\n",
        "    C = 0\n",
        "\n",
        "    if t >= 0.42 and t < 4.76:\n",
        "      if df/t < 10:\n",
        "        C = 3\n",
        "      elif df/t <= 22:\n",
        "        C = 4-0.1*(df/t)\n",
        "      else:\n",
        "        C = 1.8\n",
        "    \n",
        "    return C\n",
        "\n",
        "  C1 = bearing_factor(df, t1)\n",
        "  C2 = bearing_factor(df, t2)\n",
        "\n",
        "  Vb1 = alpha1 * C1 * df * t1 * fu1\n",
        "  Vb2 = alpha2 * C2 * df * t2 * fu2\n",
        "  Vb = min(Vb1, Vb2)\n",
        "\n",
        "  unity = V/(phi*Vb)\n",
        "\n",
        "  return unity"
      ],
      "metadata": {
        "id": "oBdgAyXoQF7D"
      },
      "execution_count": null,
      "outputs": []
    },
    {
      "cell_type": "markdown",
      "source": [
        "### Screwed connections\n",
        "\n",
        "Not covered yet"
      ],
      "metadata": {
        "id": "rHHiki1DVOHd"
      }
    },
    {
      "cell_type": "markdown",
      "source": [
        "# Appendix D"
      ],
      "metadata": {
        "id": "YRtPNBK3mhhD"
      }
    },
    {
      "cell_type": "markdown",
      "source": [
        "## Paragraph D1.1 Members in Compression - Global buckling stress\n",
        "\n",
        "Used to calculate $f_{oc}$. The top level function simply determines whether D1.1 (sections without holes) or D1.2 (sections with holes) applies."
      ],
      "metadata": {
        "id": "TsR4uOg8qPIb"
      }
    },
    {
      "cell_type": "code",
      "source": [
        "def elastic_flexural_buckling_stress(section_properties,member_properties):\n",
        "  if section_properties['hole sections']['holes present?'] == False:\n",
        "    foc = elastic_flexural_buckling_stress_D_1_1_1(section_properties, member_properties)\n",
        "  elif section_properties['hole sections']['holes present?'] == True:\n",
        "    foc = elastic_flexural_buckling_stress_D_1_1_2(section_properties, member_properties)\n",
        "\n",
        "  return foc"
      ],
      "metadata": {
        "id": "h6MajHLuxkDg"
      },
      "execution_count": null,
      "outputs": []
    },
    {
      "cell_type": "markdown",
      "source": [
        "### D1.1.1 Compression members without holes"
      ],
      "metadata": {
        "id": "HTDwJ-AWraTj"
      }
    },
    {
      "cell_type": "markdown",
      "source": [
        "**D1.1.1.1 - Sections not subject to torsional or flexural-torsional buckling**\n",
        "\n",
        "For sections not subject to distortional buckling, $f_{oc}$ is determined using eq D1.1.1(1):\n",
        "\n",
        ">$f_{oc} = \\frac{\\pi^2E}{(\\frac{l_e}{r})^2}\n",
        "$\n",
        "\n",
        "where:\n",
        ">$l_e=$ effective length of member\n",
        "\n",
        ">$r=$ radius of gyration of the full, unreduced cross section. \n",
        "\n",
        ">>$\\qquad r=\\sqrt{\\frac{I_f}{A_f}}\n",
        "$  \n",
        "\n",
        "> although not explicitely required by the standard, the maximum of $\\frac{l_{ey}}{r_y}$ and $\\frac{l_{ex}}{r_x}$ is taken here\n",
        "\n",
        "**D1.1.1.2 - Doubly or singly symmetric sections sunject to torsional or flexural-torsional buckling**\n",
        "\n",
        "In this performance function all symmetricm sections are checked for torsional and flexural torsional buckling for simplicity and conservativeness.\n",
        "\n",
        "For doubly or singly symmetric sections subject to torsional or flexural-torsional buckling $f_{oc}$ shall be taken as the smaller of $f_{oy}$, calculated using eq D1.1.1(4), and $f_{oxz}$, calcuated using eq. D1.1.1(2): \n",
        "\n",
        ">$f_{oxz} = \\frac{1}{2\\beta}[(f_{ox}+f_{oz})-\\sqrt{(f_{ox}+f_{oz})^2-4\\beta f_{ox}f_{oz}}\\ ]\n",
        "$\n",
        "\n",
        ">$ f_{ox} = \\frac{\\pi^2E}{(\\frac{l_{ex}}{r_x})^2}\n",
        "$\n",
        "\n",
        ">$ f_{oy} = \\frac{\\pi^2E}{(\\frac{l_{ey}}{r_y})^2}\n",
        "$\n",
        "\n",
        ">$ f_{oz} = \\frac{GJ}{A_gr_{ol}}(1 + \\frac{\\pi^2EI_w}{GJl_{ez}^2})\n",
        "$\n",
        "\n",
        "where:\n",
        "\n",
        ">> $A_g =$ area of full cross section\n",
        "\n",
        ">>$ r_{ol} =$ polar radius of gyration about the shear centre\n",
        "\n",
        ">>$\\quad\\  = \\sqrt{r_x^2+r_y^2+x_0^2+y_0^2}$\n",
        "\n",
        ">>$ \\beta = 1-(\\frac{x_0}{r_{ol}})^2\n",
        "$\n",
        "\n",
        "**D1.1.1.3 - Point symmetric sections**\n",
        "\n",
        "For point symmetruic sections subject to torsional or flexural-torsional buckling $f_{oc}$ shall be taken as the smaller of $f_{oc}$ as calulated using eq D1.1.1(1) and $f_{oz}$. Practically, this means:\n",
        "\n",
        ">$ f_{oc} = min(f_{ox},f_{oy},f_{oz})\n",
        "$\n",
        "\n",
        "**D1.1.1.4 - Non-symmetric sections**\n",
        "\n",
        "These are not currently covered by this performance function"
      ],
      "metadata": {
        "id": "_fXNb7kweAPF"
      }
    },
    {
      "cell_type": "code",
      "source": [
        "def elastic_flexural_buckling_stress_D_1_1_1(section_properties, member_properties):\n",
        "  # D1.1.1.1 - Sections not subject to torsional or flexural-torsion buckling\n",
        "  # NOTE: in this function, the x axis is taken to be the axis of symmetry for singly symmetric sections, and the major axis for other sections.\n",
        "  # x,y axes within function may not match x,y input axes\n",
        "\n",
        "  # get major/minor axis properties\n",
        "  section_properties = axis_setter(section_properties)\n",
        "\n",
        "  # get section properties, calculate radii of gyration\n",
        "  Af = section_properties['Af']\n",
        "  Ag = Af\n",
        "  E = section_properties['E']\n",
        "  G = section_properties['G']\n",
        "  J = section_properties['J']\n",
        "  Iw = section_properties['Iw']\n",
        "\n",
        "  # per the D1.1.1.2, for singly symmetric sections, the x axis is taken to be the axis of symmetry\n",
        "  # while not specifically outlined, the x axis is assumed to be the major axis in other parts of the standard, so the shear centre of the major axis is taken here for sections other than singly symmetric \n",
        "  if section_properties['symmetry axes'] == 'x' or section_properties['major_axis'] == 'x':\n",
        "    Ixf = section_properties['Ix']\n",
        "    Iyf = section_properties['Iy']\n",
        "    x0 = section_properties['x0']\n",
        "    y0 = section_properties['y0']\n",
        "    # get effective lengths from member properties dictionary\n",
        "    lex,ley,lez = member_properties['lex'],member_properties['ley'],member_properties['lez']\n",
        "\n",
        "  elif section_properties['symmetry axes'] == 'y' or section_properties['major_axis'] == 'y':\n",
        "    Iyf = section_properties['Ix']\n",
        "    Ixf = section_properties['Iy']\n",
        "    y0 = section_properties['x0']\n",
        "    x0 = section_properties['y0']\n",
        "    # get effective lengths from member properties dictionary\n",
        "    ley,lex,lez = member_properties['lex'],member_properties['ley'],member_properties['lez']\n",
        "  \n",
        "  # calculate radii of gyration\n",
        "  rx = (Ixf/Af)**0.5\n",
        "  ry = (Iyf/Af)**0.5\n",
        "  rol = (rx**2 + ry**2 + x0**2 + y0**2)**0.5\n",
        "\n",
        "  # calculate fox, foy, foz using eqs D1.1.1(3),(4),(5)\n",
        "  fox = (E*math.pi**2)/(lex/rx)**2\n",
        "  foy = (E*math.pi**2)/(ley/ry)**2\n",
        "  foz = (G*J/(Ag*rol**2))*(1+(E*Iw*math.pi**2)/(G*J*lez**2))\n",
        "\n",
        "  # calculate beta using eq D1.1.1(7)\n",
        "  beta = 1-(x0/rol)**2\n",
        "\n",
        "  #calculate foxz using eq D1.1.1(2)\n",
        "  foxz = (1/(2*beta)) * ( (fox + foz) - ((fox + foz)**2 -4*beta*fox*foz )**0.5 )\n",
        "\n",
        "  # take foc as the minimum of fox, foy, foxz if section is singly or doubly symmetric.\n",
        "  # take foc as the smaller of fox, foy, foz if section is point symmetric\n",
        "  if section_properties['symmetry axes'] in {'x','y'}:\n",
        "    foc = min(fox, foy, foxz)\n",
        "  elif section_properties['symmetry axes'] in {'double','Z point symmetric'}:\n",
        "    foc = min(fox, foy, foz)\n",
        "  elif section_properties['symmetry axes'] in {'none'}:\n",
        "    foc = 'error, performance function does not cover non-symmetric sections'\n",
        "\n",
        "  return foc"
      ],
      "metadata": {
        "id": "1X8jFrDrs59g"
      },
      "execution_count": null,
      "outputs": []
    },
    {
      "cell_type": "markdown",
      "source": [
        "###D1.1.2 Compression members with holes"
      ],
      "metadata": {
        "id": "ua_jqH9-9E49"
      }
    },
    {
      "cell_type": "markdown",
      "source": [
        "$f_{oc}$ is calculated per equations D1.1.2(1)-(7). In general the same process is followed as for D1.1.1 - Compression members without holes.\n",
        "\n",
        "However, where required weighted average section properties are taken from Table D1.1.2.1"
      ],
      "metadata": {
        "id": "X1FzV9dteCfN"
      }
    },
    {
      "cell_type": "code",
      "source": [
        "def weighted_average_section_properties(section_properties):\n",
        "  # get relevant gross section properties from section_properties dictionary\n",
        "  A_g = section_properties['Af']\n",
        "  x0 = section_properties['x0']\n",
        "  y0 = section_properties['y0']\n",
        "  J = section_properties['J']\n",
        "  Ix = section_properties['Ix']\n",
        "  Iy = section_properties['Iy']\n",
        "  \n",
        "  # get relevant holed section properties from section_properties dictionary\n",
        "  A_net = section_properties['hole sections']['A,net']\n",
        "  Ix_net = section_properties['hole sections']['Ix,net']\n",
        "  Iy_net = section_properties['hole sections']['Iy,net']\n",
        "  J_net = section_properties['hole sections']['J,net']\n",
        "  x0_net = section_properties['hole sections']['x0,net']\n",
        "  y0_net = section_properties['hole sections']['y0,net']\n",
        "  l_hole = section_properties['hole sections']['hole length']\n",
        "  hole_spacing = section_properties['hole sections']['hole spacing']\n",
        "  \n",
        "  # calculate length of gross section (clear spacing between holes)\n",
        "  l_g = hole_spacing-l_hole\n",
        "\n",
        "  #calculate weighted average cross section properties per Table D1.1.2.1. For most properties this is done using a weighted average function, defined below\n",
        "  def hole_weighted_averages(gross,net):\n",
        "    avg = (gross*l_g+net*l_hole)/hole_spacing\n",
        "    return avg\n",
        "\n",
        "  # calculate weighted average section properties and add to section_properties dictionary\n",
        "  A_avg = hole_weighted_averages(A_g,A_net)\n",
        "  Ix_avg = hole_weighted_averages(Ix,Ix_net)\n",
        "  Iy_avg = hole_weighted_averages(Iy,Iy_net)\n",
        "  J_avg = hole_weighted_averages(J,J_net)\n",
        "  x0_avg = hole_weighted_averages(x0,x0_net)\n",
        "  y0_avg = hole_weighted_averages(y0,y0_net)\n",
        "  rol_avg = (x0_avg**2 + y0_avg**2 + (Ix_avg+Iy_avg)/A_avg)**0.5\n",
        "\n",
        "  return A_avg, Ix_avg, Iy_avg, J_avg, x0_avg, y0_avg, rol_avg"
      ],
      "metadata": {
        "id": "1nIqLhcze502"
      },
      "execution_count": null,
      "outputs": []
    },
    {
      "cell_type": "code",
      "source": [
        "def elastic_flexural_buckling_stress_D_1_1_2(section_properties, member_properties):\n",
        "  #D1.1.1.1 - Sections not subject to torsional or flexural-torsion buckling\n",
        "\n",
        "  #get major/minor axis properties\n",
        "  section_properties = axis_setter(section_properties)\n",
        "\n",
        "  # get section properties, calculate radii of gyration\n",
        "  Ag = section_properties['Af']\n",
        "  E = section_properties['E']\n",
        "  G = section_properties['G']\n",
        "  Iw_net = section_properties['hole sections']['Iw,net']\n",
        "\n",
        "  # get weighted average section properties\n",
        "  A_avg, Ix_avg, Iy_avg, J_avg, x0_avg, y0_avg, rol_avg = weighted_average_section_properties(section_properties)\n",
        "\n",
        "  # get effective lengths from member properties dictionary\n",
        "  lex,ley,lez = member_properties['lex'],member_properties['ley'],member_properties['lez']\n",
        "\n",
        "  # per the D1.1.1.2, for singly symmetric sections, the x axis is taken to be the axis of symmetry\n",
        "  # while not specifically outlined, the x axis is assumed to be the major axis in other parts of the standard, so the shear centre of the major axis is taken here for sections other than singly symmetric \n",
        "  # compared to the functioon for D1.1.1, in this function section properties come from a number of sources. So they are first set based on the input axes, and then x and y are switched below if necessary\n",
        "  if section_properties['symmetry axes'] == 'y' or section_properties['major_axis'] == 'y':\n",
        "    Ix_avg,Iy_avg = Iy_avg, Ix_avg\n",
        "    x0_avg,y0_avg = y0_avg, x0_avg\n",
        "    lex, ley = ley,lex\n",
        "\n",
        "  # calculate fox, foy, foz using eqs D1.1.2(3),(4),(5)\n",
        "  fox = (E*Ix_avg*math.pi**2)/(Ag*lex**2)\n",
        "  foy = (E*Iy_avg*math.pi**2)/(Ag*ley**2)\n",
        "  foz = (G*J_avg/(Ag*rol_avg**2))*(1+(E*Iw_net*math.pi**2)/(G*J_avg*lez**2))\n",
        "\n",
        "  # calculate beta using eq D1.1.2(7). \n",
        "  beta = 1-(x0_avg/rol_avg)**2\n",
        "  # print(f'beta = {beta}')\n",
        "\n",
        "  #calculate foxz using eq D1.1.1(2)\n",
        "  foxz = (1/(2*beta)) * ( (fox + foz) - ((fox + foz)**2 -4*beta*fox*foz )**0.5 )\n",
        "\n",
        "\n",
        "  # print(f\"fox = {fox}, foy = {foy}, foz = {foz}, foxz = {foxz}\")\n",
        "  # print(f\"E = {E}, Ix_avg = {Ix_avg}, Ag = {Ag}, lex = {lex}\")\n",
        "\n",
        "  # take foc as the minimum of fox, foy, foxz if section is singly or doubly symmetric.\n",
        "  # take foc as the smaller of fox, foy, foz if section is point symmetric\n",
        "  if section_properties['symmetry axes'] in {'x','y'}:\n",
        "    foc = min(fox, foy, foxz)\n",
        "  elif section_properties['symmetry axes'] in {'double','Z point symmetric'}:\n",
        "    foc = min(fox, foy, foz)\n",
        "  elif section_properties['symmetry axes'] in {'none'}:\n",
        "    foc = 'error, performance function does not cover non-symmetric sections'\n",
        "\n",
        "  return foc"
      ],
      "metadata": {
        "id": "jlc6Xav1mwim"
      },
      "execution_count": null,
      "outputs": []
    },
    {
      "cell_type": "markdown",
      "source": [
        "## Paragraph D1.2 Members in Compression - Distortional Buckling Stresses\n",
        "\n",
        "Used to calculate $f_{od}$, for general channels and simple lipped channels (see Figure D2)"
      ],
      "metadata": {
        "id": "i7k5alF7T5Fb"
      }
    },
    {
      "cell_type": "markdown",
      "source": [
        "### D1.2.1.1 General channel members in compression\n",
        "\n",
        "The elastic distortional buckling stress, $f_{od}$ is calculated using eqs D1.2.1(13)-(28).\n",
        "\n",
        "This function also considers sections with patterned holes by using a modified thickness $t_r$ as per eq D1.2.2(2)"
      ],
      "metadata": {
        "id": "tnenUrTgVRGX"
      }
    },
    {
      "cell_type": "code",
      "source": [
        "def elastic_distortional_buckling_stress(section_properties):\n",
        "  # calculate distortional buckling stress here using D1.2, D2.2\n",
        "  return"
      ],
      "metadata": {
        "id": "PxKRRFhxXIeS"
      },
      "execution_count": null,
      "outputs": []
    },
    {
      "cell_type": "markdown",
      "source": [
        "## Paragraph D2.1 Global buckling moments\n",
        "\n",
        "Used to calculate $M_o$"
      ],
      "metadata": {
        "id": "aKCUPDQ7FHmj"
      }
    },
    {
      "cell_type": "markdown",
      "source": [
        "D2.1.1.2 *Single-, doubly- and point-symmetric sections* used to calculate $M_o$. \n",
        "\n",
        "D2.1.1.3 *Point symmetric Z-sections* not covered by performance function currently.\n",
        "\n",
        "(a) **Singly-symmetric sections bent about the symmetry axis, doubly-symmetric sections bent about the x-axis, and Z-sections**\n",
        "*For this section, the X-axis is taken as the major axis (axis with highest I value). This is not explicitly stated in the standard however is implied to be the case throughout.* \n",
        "\n",
        ">$ M_o = C_bA_gr_{ol}\\sqrt{f_{oy}f_{oz}}\n",
        "$\n",
        "\n",
        ">> $C_b$ is conservatively taken as 1.0.\n",
        "\n",
        ">> $r_{ol} = \\sqrt{r_x^2 + r_y^2 + x_0^2 + y_0^2}\n",
        "$\n",
        ">>> $r_{x,y}$ are radii of gyration about respective axes\n",
        "\n",
        ">>> $x_0,y_0$ are shear centre coordinates\n",
        "\n",
        ">> $f_{oy}$, $f_{oz}$ calculated using equations D1.1.1(4) and D1.1.1(5) for non-holed sections, and equations D1.1.2(3) and D1.1.2(4) for holed sections.\n"
      ],
      "metadata": {
        "id": "hXazMJmempsU"
      }
    },
    {
      "cell_type": "code",
      "source": [
        "def elastic_lateral_torsional_buckling_moment(section_properties, member_properties):\n",
        "  #NOTE: this function is only required to check major axis bending. Therefore, x,y axes in variable names within the function correspond to major, minor axes and NOT to input x,y axes\n",
        "  \n",
        "    # set major/minor axes\n",
        "    section_properties = axis_setter(section_properties)\n",
        "    symmetry_axes = section_properties['symmetry axes maj min']\n",
        "\n",
        "    # assume moment axis is the major axis - as lateral torsional buckling unlikely to occur under minor axis bending\n",
        "    moment_axis = 'maj'\n",
        "\n",
        "    # get variables\n",
        "    A_g = section_properties['Af']\n",
        "    shear_centre_maj = section_properties['shear_centre_maj']\n",
        "    shear_centre_min = section_properties['shear_centre_min']\n",
        "    E = section_properties['E']\n",
        "    G = section_properties['G']\n",
        "    J = section_properties['J']\n",
        "    Iw = section_properties['Iw']\n",
        "    Imaj = section_properties['Imaj']\n",
        "    Imin = section_properties['Imin']\n",
        "    beta_y = section_properties['beta']\n",
        "    r_maj = (Imaj/A_g)**0.5\n",
        "    r_min = (Imin/A_g)**0.5\n",
        "\n",
        "    if section_properties['major_axis'] == 'x':\n",
        "      l_e_maj = member_properties['lex']\n",
        "      l_e_min = member_properties['ley']\n",
        "      l_e_torsion = member_properties['lez']\n",
        "    elif section_properties['major_axis'] == 'y':\n",
        "      l_e_maj = member_properties['ley']\n",
        "      l_e_min = member_properties['lex']\n",
        "      l_e_torsion = member_properties['lez']\n",
        "\n",
        "    # define polar radius of gyration per eq D2.1.1(3)\n",
        "    r_ol = (r_maj**2 + r_min**2 + shear_centre_maj**2 + shear_centre_min**2)**0.5\n",
        "\n",
        "    # elastic buckling stresses per D1.1\n",
        "    # non-holed sections\n",
        "    if section_properties['hole sections']['holes present?'] == False:\n",
        "      f_ox = ((math.pi**2)*E)  /  ((l_e_maj/r_maj)**2)\n",
        "      f_oy = ((math.pi**2)*E)  /  ((l_e_min/r_min)**2)\n",
        "      f_oz = ((G*J) / (A_g*r_ol**2)) * (1+(math.pi**2*E*Iw) / (G*J*l_e_torsion**2))\n",
        "\n",
        "    # holed-sections\n",
        "    elif section_properties['hole sections']['holes present?'] == True:\n",
        "\n",
        "      # get holed section properties\n",
        "      A_net = section_properties['hole sections']['A,net']\n",
        "      Imaj_net = section_properties['hole sections']['Imaj,net']\n",
        "      Imin_net = section_properties['hole sections']['Imin,net']\n",
        "      Iw_net = section_properties['hole sections']['Iw,net']\n",
        "      J_net = section_properties['hole sections']['J,net']\n",
        "      shear_centre_maj_net = section_properties['hole sections']['shear_centre_maj,net']\n",
        "      shear_centre_min_net = section_properties['hole sections']['shear_centre_min,net']\n",
        "      l_hole = section_properties['hole sections']['hole length']\n",
        "      hole_spacing = section_properties['hole sections']['hole spacing']\n",
        "      l_g = hole_spacing-l_hole\n",
        "\n",
        "      #calculate weighted average cross section properties per Table D1.1.2.1\n",
        "      def hole_weighted_averages(gross,net):\n",
        "        avg = (gross*l_g+net*l_hole)/hole_spacing\n",
        "        return avg\n",
        "\n",
        "      A_avg = hole_weighted_averages(A_g,A_net)\n",
        "      Ix_avg = hole_weighted_averages(Imaj,Imaj_net)\n",
        "      Imin_avg = hole_weighted_averages(Imin,Imin_net)\n",
        "      J_avg = hole_weighted_averages(J,J_net)\n",
        "      shear_centre_maj_avg = hole_weighted_averages(shear_centre_maj, shear_centre_maj_net)\n",
        "      shear_centre_min_avg = hole_weighted_averages(shear_centre_min,shear_centre_min_net)\n",
        "      r_ol_avg =  (shear_centre_maj_avg**2 + shear_centre_min_avg**2 + (Ix_avg+Imin_avg)/A_avg)**0.5\n",
        "\n",
        "      #set effective length in minor axis\n",
        "      if section_properties['major_axis'] == 'x':\n",
        "        l_e_min = member_properties['ley']\n",
        "      elif section_properties['major_axis'] == 'y':\n",
        "        l_e_min = member_properties['lex']\n",
        "\n",
        "      #set effective length for torsion\n",
        "      l_e_torsion = member_properties['lez']\n",
        "\n",
        "      f_oy = ((math.pi**2)*E*Imin_net)  /  (A_g*l_e_min**2)\n",
        "      f_oz = ((G*J_avg) / (A_g*r_ol_avg**2)) * (1+(math.pi**2*E*Iw_net) / (G*J*l_e_torsion**2))\n",
        "\n",
        "    # D2.1.1.2(a) if singly symmetric and bent about symmetry axis (that also being the major axis) or if doubly symmetric and bent about x (major) axis:\n",
        "    if (symmetry_axes == 'maj' and moment_axis == 'maj') or (symmetry_axes == 'double' and moment_axis == 'maj'):\n",
        "      C_b = 1.0\n",
        "      M_o = C_b*A_g*r_ol*(f_oy*f_oz)**0.5\n",
        "\n",
        "    # D2.1.1.2(b) if singly symmetric and bent about perpendicular axis\n",
        "    if (symmetry_axes == 'min' and moment_axis == 'maj'):\n",
        "      C_TF = 1                                                                                      #conservative, can be reduced if moment is greatest at ends of the member rather than midspan\n",
        "      \n",
        "      # calculate M_o for both the case where moment causes compression on the shear centre side of the section, and the case where moment causes tension on the shear centre side of the section. Take the lowest value. This will give a conservative result. \n",
        "      def M_o_D2_1_1_4(case):  \n",
        "        if case == 1:\n",
        "          # case 1, compression on shear centre side\n",
        "          C_s = 1\n",
        "          beta_y = abs(beta_y)\n",
        "          M_o = C_s*A_g*f_ox*( (beta_y/2)+C_s*( (beta_y/2)**2 + (r_ol**2*f_oz/f_ox))**0.5 ) / C_TF\n",
        "        elif case == 2:\n",
        "          # case 2, tension on shear centre side\n",
        "          C_s = -1\n",
        "          beta_y = - abs(beta_y)\n",
        "          M_o = C_s*A_g*f_ox*( (beta_y/2)+C_s*( (beta_y/2)**2 + (r_ol**2*f_oz/f_ox))**0.5 ) / C_TF\n",
        "        return M_o\n",
        "      \n",
        "      # use M_o_D2_1_1_1_4 function to calculate M0 per equation D2.1.1(4), for both positive and negative moment\n",
        "      M_o = min(M_o_D2_1_1_4(1),M_o_D2_1_1_4(2))\n",
        "\n",
        "    return M_o"
      ],
      "metadata": {
        "id": "fJHjPsA28mHa"
      },
      "execution_count": null,
      "outputs": []
    }
  ]
}
